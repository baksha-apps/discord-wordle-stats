{
 "cells": [
  {
   "cell_type": "code",
   "execution_count": 2,
   "id": "divided-twenty",
   "metadata": {},
   "outputs": [],
   "source": [
    "import pandas as pd\n",
    "from datetime import datetime, timedelta, date\n",
    "from IPython import display"
   ]
  },
  {
   "cell_type": "code",
   "execution_count": 2,
   "id": "united-dream",
   "metadata": {},
   "outputs": [],
   "source": [
    "df = pd.DataFrame(columns = ['player_id', 'wordle_id', 'won_on_try_num', 'total_num_tries', 'created_date'])"
   ]
  },
  {
   "cell_type": "code",
   "execution_count": 3,
   "id": "homeless-fairy",
   "metadata": {},
   "outputs": [],
   "source": [
    "df = df.append({'player_id':\"travis\",\n",
    "                'wordle_id':201, \n",
    "                'won_on_try_num' : 5, \n",
    "                'total_num_tries' : 6,\n",
    "                'created_date': datetime.now()}, \n",
    "                ignore_index = True)\n",
    "\n",
    "df = df.append({'player_id':\"travis\",\n",
    "                'wordle_id':201, \n",
    "                'won_on_try_num' : 4, \n",
    "                'total_num_tries' : 6,\n",
    "                'created_date': datetime.now()}, \n",
    "                ignore_index = True)\n",
    "\n",
    "df = df.append({'player_id':\"travis\",\n",
    "                'wordle_id':201, \n",
    "                'won_on_try_num' : 4, \n",
    "                'total_num_tries' : 6,\n",
    "                'created_date': datetime.now()}, \n",
    "                ignore_index = True)\n",
    "df = df.append({'player_id':\"travis\",\n",
    "                'wordle_id':201, \n",
    "                'won_on_try_num' : 4, \n",
    "                'total_num_tries' : 6,\n",
    "                'created_date': datetime.now()}, \n",
    "                ignore_index = True)\n",
    "\n",
    "df = df.append({'player_id':\"travis\",\n",
    "                'wordle_id':201, \n",
    "                'won_on_try_num' : None, \n",
    "                'total_num_tries' : 6,\n",
    "                'created_date': datetime.now()}, \n",
    "                ignore_index = True)\n",
    "df = df.append({'player_id':\"travis\",\n",
    "                'wordle_id':202, \n",
    "                'won_on_try_num' : 5, \n",
    "                'total_num_tries' : 6,\n",
    "                'created_date': datetime.now()}, \n",
    "                ignore_index = True)\n",
    "df = df.append({'player_id':\"1ravis\",\n",
    "                'wordle_id':201, \n",
    "                'won_on_try_num' : 2, \n",
    "                'total_num_tries' : 6,\n",
    "                'created_date': datetime.now()}, \n",
    "                ignore_index = True)\n",
    "df = df.append({'player_id':\"2ravis\",\n",
    "                'wordle_id':201, \n",
    "                'won_on_try_num' : None, \n",
    "                'total_num_tries' : 6,\n",
    "                'created_date': datetime.now() }, \n",
    "                ignore_index = True)"
   ]
  },
  {
   "cell_type": "code",
   "execution_count": 4,
   "id": "understanding-gregory",
   "metadata": {
    "tags": []
   },
   "outputs": [
    {
     "data": {
      "text/html": [
       "<div>\n",
       "<style scoped>\n",
       "    .dataframe tbody tr th:only-of-type {\n",
       "        vertical-align: middle;\n",
       "    }\n",
       "\n",
       "    .dataframe tbody tr th {\n",
       "        vertical-align: top;\n",
       "    }\n",
       "\n",
       "    .dataframe thead th {\n",
       "        text-align: right;\n",
       "    }\n",
       "</style>\n",
       "<table border=\"1\" class=\"dataframe\">\n",
       "  <thead>\n",
       "    <tr style=\"text-align: right;\">\n",
       "      <th></th>\n",
       "      <th>player_id</th>\n",
       "      <th>wordle_id</th>\n",
       "      <th>won_on_try_num</th>\n",
       "      <th>total_num_tries</th>\n",
       "      <th>created_date</th>\n",
       "    </tr>\n",
       "  </thead>\n",
       "  <tbody>\n",
       "    <tr>\n",
       "      <th>0</th>\n",
       "      <td>travis</td>\n",
       "      <td>201</td>\n",
       "      <td>5</td>\n",
       "      <td>6</td>\n",
       "      <td>2022-02-12 20:36:25.624732</td>\n",
       "    </tr>\n",
       "    <tr>\n",
       "      <th>1</th>\n",
       "      <td>travis</td>\n",
       "      <td>201</td>\n",
       "      <td>4</td>\n",
       "      <td>6</td>\n",
       "      <td>2022-02-12 20:36:25.628361</td>\n",
       "    </tr>\n",
       "    <tr>\n",
       "      <th>2</th>\n",
       "      <td>travis</td>\n",
       "      <td>201</td>\n",
       "      <td>4</td>\n",
       "      <td>6</td>\n",
       "      <td>2022-02-12 20:36:25.630916</td>\n",
       "    </tr>\n",
       "    <tr>\n",
       "      <th>3</th>\n",
       "      <td>travis</td>\n",
       "      <td>201</td>\n",
       "      <td>4</td>\n",
       "      <td>6</td>\n",
       "      <td>2022-02-12 20:36:25.633618</td>\n",
       "    </tr>\n",
       "    <tr>\n",
       "      <th>4</th>\n",
       "      <td>travis</td>\n",
       "      <td>201</td>\n",
       "      <td>None</td>\n",
       "      <td>6</td>\n",
       "      <td>2022-02-12 20:36:25.636311</td>\n",
       "    </tr>\n",
       "    <tr>\n",
       "      <th>5</th>\n",
       "      <td>travis</td>\n",
       "      <td>202</td>\n",
       "      <td>5</td>\n",
       "      <td>6</td>\n",
       "      <td>2022-02-12 20:36:25.639673</td>\n",
       "    </tr>\n",
       "    <tr>\n",
       "      <th>6</th>\n",
       "      <td>1ravis</td>\n",
       "      <td>201</td>\n",
       "      <td>2</td>\n",
       "      <td>6</td>\n",
       "      <td>2022-02-12 20:36:25.642555</td>\n",
       "    </tr>\n",
       "    <tr>\n",
       "      <th>7</th>\n",
       "      <td>2ravis</td>\n",
       "      <td>201</td>\n",
       "      <td>None</td>\n",
       "      <td>6</td>\n",
       "      <td>2022-02-12 20:36:25.645546</td>\n",
       "    </tr>\n",
       "  </tbody>\n",
       "</table>\n",
       "</div>"
      ],
      "text/plain": [
       "  player_id wordle_id won_on_try_num total_num_tries  \\\n",
       "0    travis       201              5               6   \n",
       "1    travis       201              4               6   \n",
       "2    travis       201              4               6   \n",
       "3    travis       201              4               6   \n",
       "4    travis       201           None               6   \n",
       "5    travis       202              5               6   \n",
       "6    1ravis       201              2               6   \n",
       "7    2ravis       201           None               6   \n",
       "\n",
       "                created_date  \n",
       "0 2022-02-12 20:36:25.624732  \n",
       "1 2022-02-12 20:36:25.628361  \n",
       "2 2022-02-12 20:36:25.630916  \n",
       "3 2022-02-12 20:36:25.633618  \n",
       "4 2022-02-12 20:36:25.636311  \n",
       "5 2022-02-12 20:36:25.639673  \n",
       "6 2022-02-12 20:36:25.642555  \n",
       "7 2022-02-12 20:36:25.645546  "
      ]
     },
     "execution_count": 4,
     "metadata": {},
     "output_type": "execute_result"
    }
   ],
   "source": [
    "reset = df\n",
    "reset"
   ]
  },
  {
   "cell_type": "code",
   "execution_count": 5,
   "id": "31e0c5ff-0a17-4e0a-b1b1-2ae604a822b6",
   "metadata": {},
   "outputs": [],
   "source": [
    "df = reset"
   ]
  },
  {
   "cell_type": "code",
   "execution_count": 8,
   "id": "9392623a-063e-4e31-87d5-7e7bbcbaa258",
   "metadata": {},
   "outputs": [
    {
     "data": {
      "text/plain": [
       "201"
      ]
     },
     "execution_count": 8,
     "metadata": {},
     "output_type": "execute_result"
    }
   ],
   "source": [
    "df.wordle_id.mode()[0]"
   ]
  },
  {
   "cell_type": "code",
   "execution_count": 3,
   "id": "346a6223-5c07-43d4-83cc-95102d85e736",
   "metadata": {},
   "outputs": [],
   "source": [
    "import numpy as np\n",
    "all_wordle_solutions = np.load(\"words.npy\")"
   ]
  },
  {
   "cell_type": "code",
   "execution_count": 4,
   "id": "ddea407e-6a6d-4d3f-870b-dc164a1fbcb1",
   "metadata": {},
   "outputs": [],
   "source": [
    "all_wordle_solutions = np.load(\"words.npy\")"
   ]
  },
  {
   "cell_type": "code",
   "execution_count": 6,
   "id": "7714535f-dc36-4e59-b8a4-cd066573e00a",
   "metadata": {},
   "outputs": [
    {
     "data": {
      "text/plain": [
       "array(['cigar', 'rebut', 'sissy', ..., 'artsy', 'rural', 'shave'],\n",
       "      dtype='<U5')"
      ]
     },
     "execution_count": 6,
     "metadata": {},
     "output_type": "execute_result"
    }
   ],
   "source": [
    "all_wordle_solutions"
   ]
  },
  {
   "cell_type": "code",
   "execution_count": null,
   "id": "9c995bf4-4370-45f9-8501-dd1202c0b989",
   "metadata": {},
   "outputs": [],
   "source": []
  }
 ],
 "metadata": {
  "kernelspec": {
   "display_name": "Python 3 (ipykernel)",
   "language": "python",
   "name": "python3"
  },
  "language_info": {
   "codemirror_mode": {
    "name": "ipython",
    "version": 3
   },
   "file_extension": ".py",
   "mimetype": "text/x-python",
   "name": "python",
   "nbconvert_exporter": "python",
   "pygments_lexer": "ipython3",
   "version": "3.8.12"
  }
 },
 "nbformat": 4,
 "nbformat_minor": 5
}
