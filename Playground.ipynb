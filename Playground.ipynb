{
 "cells": [
  {
   "cell_type": "code",
   "execution_count": 99,
   "id": "divided-twenty",
   "metadata": {},
   "outputs": [],
   "source": [
    "import pandas as pd\n",
    "from datetime import datetime\n",
    "from datetime import date\n",
    "from datetime import timedelta"
   ]
  },
  {
   "cell_type": "markdown",
   "id": "essential-disease",
   "metadata": {},
   "source": [
    "# playid, wordleid, userid,won_on_try,total_tries,date_entered\n",
    "\n",
    "# (wordleid+playerid), int, str, nullable int, int, date\n",
    "\n",
    "###\n",
    "allstatsdf \n",
    "rank, playerid, total_games, avg_won_on_attempt win_percent, avg_attempt_num_won, started_playing_date "
   ]
  },
  {
   "cell_type": "code",
   "execution_count": 100,
   "id": "united-dream",
   "metadata": {},
   "outputs": [],
   "source": [
    "df = pd.DataFrame(columns = ['player_id', 'wordle_id', 'won_on_try_num', 'total_num_tries', 'created_date'])"
   ]
  },
  {
   "cell_type": "code",
   "execution_count": 101,
   "id": "entire-portsmouth",
   "metadata": {},
   "outputs": [],
   "source": [
    "df = df.append({'player_id':\"travis\",\n",
    "                'wordle_id':200, \n",
    "                'won_on_try_num' : None, \n",
    "                'total_num_tries' : 6,\n",
    "                'created_date': datetime.now() - timedelta(days = 2) }, \n",
    "                ignore_index = True)"
   ]
  },
  {
   "cell_type": "code",
   "execution_count": 102,
   "id": "homeless-fairy",
   "metadata": {},
   "outputs": [],
   "source": [
    "df = df.append({'player_id':\"travis\",\n",
    "                'wordle_id':201, \n",
    "                'won_on_try_num' : 4, \n",
    "                'total_num_tries' : 6,\n",
    "                'created_date': datetime.now()}, \n",
    "                ignore_index = True)\n",
    "df = df.append({'player_id':\"travis\",\n",
    "                'wordle_id':202, \n",
    "                'won_on_try_num' : 5, \n",
    "                'total_num_tries' : 6,\n",
    "                'created_date': datetime.now()}, \n",
    "                ignore_index = True)\n",
    "df = df.append({'player_id':\"ravis\",\n",
    "                'wordle_id':201, \n",
    "                'won_on_try_num' : 2, \n",
    "                'total_num_tries' : 6,\n",
    "                'created_date': datetime.now()}, \n",
    "                ignore_index = True)\n",
    "df = df.append({'player_id':\"ravis\",\n",
    "                'wordle_id':202, \n",
    "                'won_on_try_num' : 1, \n",
    "                'total_num_tries' : 6,\n",
    "                'created_date': datetime.now()}, \n",
    "                ignore_index = True)"
   ]
  },
  {
   "cell_type": "code",
   "execution_count": null,
   "id": "distinguished-affairs",
   "metadata": {},
   "outputs": [],
   "source": []
  },
  {
   "cell_type": "code",
   "execution_count": 85,
   "id": "understanding-gregory",
   "metadata": {},
   "outputs": [],
   "source": [
    "def create_all_stats_df(df): #wordle df\n",
    "    allstatsdf = pd.DataFrame()\n",
    "    allstatsdf[\"total_games\"] = df.groupby(df.player_id).size()\n",
    "    allstatsdf[\"avg_won_on_attempt\"] = df.groupby(df.player_id).won_on_try_num.mean()\n",
    "    allstatsdf['win_percent'] = (df[df['won_on_try_num'].notna()].groupby(df.player_id).size() / df.groupby(df.player_id).size()) * 100\n",
    "    allstatsdf['started_date'] = df.groupby(df.player_id).created_date.min()\n",
    "    return allstatsdf"
   ]
  },
  {
   "cell_type": "code",
   "execution_count": 103,
   "id": "light-double",
   "metadata": {},
   "outputs": [
    {
     "data": {
      "text/html": [
       "<div>\n",
       "<style scoped>\n",
       "    .dataframe tbody tr th:only-of-type {\n",
       "        vertical-align: middle;\n",
       "    }\n",
       "\n",
       "    .dataframe tbody tr th {\n",
       "        vertical-align: top;\n",
       "    }\n",
       "\n",
       "    .dataframe thead th {\n",
       "        text-align: right;\n",
       "    }\n",
       "</style>\n",
       "<table border=\"1\" class=\"dataframe\">\n",
       "  <thead>\n",
       "    <tr style=\"text-align: right;\">\n",
       "      <th></th>\n",
       "      <th>player_id</th>\n",
       "      <th>wordle_id</th>\n",
       "      <th>won_on_try_num</th>\n",
       "      <th>total_num_tries</th>\n",
       "      <th>created_date</th>\n",
       "    </tr>\n",
       "  </thead>\n",
       "  <tbody>\n",
       "    <tr>\n",
       "      <th>1</th>\n",
       "      <td>travis</td>\n",
       "      <td>201</td>\n",
       "      <td>4</td>\n",
       "      <td>6</td>\n",
       "      <td>2022-02-09 23:07:37.226793</td>\n",
       "    </tr>\n",
       "    <tr>\n",
       "      <th>2</th>\n",
       "      <td>travis</td>\n",
       "      <td>202</td>\n",
       "      <td>5</td>\n",
       "      <td>6</td>\n",
       "      <td>2022-02-09 23:07:37.230782</td>\n",
       "    </tr>\n",
       "    <tr>\n",
       "      <th>3</th>\n",
       "      <td>ravis</td>\n",
       "      <td>201</td>\n",
       "      <td>2</td>\n",
       "      <td>6</td>\n",
       "      <td>2022-02-09 23:07:37.232780</td>\n",
       "    </tr>\n",
       "    <tr>\n",
       "      <th>4</th>\n",
       "      <td>ravis</td>\n",
       "      <td>202</td>\n",
       "      <td>1</td>\n",
       "      <td>6</td>\n",
       "      <td>2022-02-09 23:07:37.235769</td>\n",
       "    </tr>\n",
       "  </tbody>\n",
       "</table>\n",
       "</div>"
      ],
      "text/plain": [
       "  player_id wordle_id won_on_try_num total_num_tries  \\\n",
       "1    travis       201              4               6   \n",
       "2    travis       202              5               6   \n",
       "3     ravis       201              2               6   \n",
       "4     ravis       202              1               6   \n",
       "\n",
       "                created_date  \n",
       "1 2022-02-09 23:07:37.226793  \n",
       "2 2022-02-09 23:07:37.230782  \n",
       "3 2022-02-09 23:07:37.232780  \n",
       "4 2022-02-09 23:07:37.235769  "
      ]
     },
     "execution_count": 103,
     "metadata": {},
     "output_type": "execute_result"
    }
   ],
   "source": [
    "statsdf = pd.DataFrame()\n",
    "todaydf = df[df['created_date'].dt.date >= date.today()]\n",
    "todaydf[\"\"]\n",
    "# statsdf[\"total_games\"] = df.groupby(df.player_id).size()\n",
    "# statsdf[\"avg_won_on_attempt\"] = df.groupby(df.player_id).won_on_try_num.mean()\n",
    "# statsdf['win_percent'] = (df[df['won_on_try_num'].notna()].groupby(df.player_id).size() / df.groupby(df.player_id).size()) * 100\n",
    "# statsdf['started_date'] = df.groupby(df.player_id).created_date.min()"
   ]
  },
  {
   "cell_type": "code",
   "execution_count": 76,
   "id": "minimal-marshall",
   "metadata": {},
   "outputs": [
    {
     "data": {
      "text/html": [
       "<div>\n",
       "<style scoped>\n",
       "    .dataframe tbody tr th:only-of-type {\n",
       "        vertical-align: middle;\n",
       "    }\n",
       "\n",
       "    .dataframe tbody tr th {\n",
       "        vertical-align: top;\n",
       "    }\n",
       "\n",
       "    .dataframe thead th {\n",
       "        text-align: right;\n",
       "    }\n",
       "</style>\n",
       "<table border=\"1\" class=\"dataframe\">\n",
       "  <thead>\n",
       "    <tr style=\"text-align: right;\">\n",
       "      <th></th>\n",
       "      <th>win_percent</th>\n",
       "    </tr>\n",
       "    <tr>\n",
       "      <th>player_id</th>\n",
       "      <th></th>\n",
       "    </tr>\n",
       "  </thead>\n",
       "  <tbody>\n",
       "    <tr>\n",
       "      <th>ravis</th>\n",
       "      <td>25.0</td>\n",
       "    </tr>\n",
       "    <tr>\n",
       "      <th>travis</th>\n",
       "      <td>75.0</td>\n",
       "    </tr>\n",
       "  </tbody>\n",
       "</table>\n",
       "</div>"
      ],
      "text/plain": [
       "           win_percent\n",
       "player_id             \n",
       "ravis             25.0\n",
       "travis            75.0"
      ]
     },
     "execution_count": 76,
     "metadata": {},
     "output_type": "execute_result"
    }
   ],
   "source": [
    "allstatsdf"
   ]
  },
  {
   "cell_type": "code",
   "execution_count": null,
   "id": "classified-reference",
   "metadata": {},
   "outputs": [],
   "source": []
  }
 ],
 "metadata": {
  "kernelspec": {
   "display_name": "Python 3",
   "language": "python",
   "name": "python3"
  },
  "language_info": {
   "codemirror_mode": {
    "name": "ipython",
    "version": 3
   },
   "file_extension": ".py",
   "mimetype": "text/x-python",
   "name": "python",
   "nbconvert_exporter": "python",
   "pygments_lexer": "ipython3",
   "version": "3.8.5"
  }
 },
 "nbformat": 4,
 "nbformat_minor": 5
}
