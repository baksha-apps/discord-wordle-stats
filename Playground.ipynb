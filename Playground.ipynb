{
 "cells": [
  {
   "cell_type": "code",
   "execution_count": 11,
   "id": "divided-twenty",
   "metadata": {},
   "outputs": [],
   "source": [
    "import pandas as pd\n",
    "from datetime import datetime\n",
    "from IPython import display"
   ]
  },
  {
   "cell_type": "markdown",
   "id": "essential-disease",
   "metadata": {},
   "source": [
    "# playid, wordleid, userid,won_on_try,total_tries,date_entered\n",
    "\n",
    "# (wordleid+playerid), int, str, nullable int, int, date\n",
    "\n",
    "###\n",
    "allstatsdf \n",
    "rank, playerid, total_games, avg_won_on_attempt win_percent, avg_attempt_num_won, started_playing_date "
   ]
  },
  {
   "cell_type": "code",
   "execution_count": 12,
   "id": "united-dream",
   "metadata": {},
   "outputs": [],
   "source": [
    "df = pd.DataFrame(columns = ['player_id', 'wordle_id', 'won_on_try_num', 'total_num_tries', 'created_date'])"
   ]
  },
  {
   "cell_type": "code",
   "execution_count": 13,
   "id": "entire-portsmouth",
   "metadata": {},
   "outputs": [],
   "source": [
    "df = df.append({'player_id':\"travis\",\n",
    "                'wordle_id':200, \n",
    "                'won_on_try_num' : None, \n",
    "                'total_num_tries' : 6,\n",
    "                'created_date': datetime.now() - timedelta(days = 2) }, \n",
    "                ignore_index = True)"
   ]
  },
  {
   "cell_type": "code",
   "execution_count": 14,
   "id": "homeless-fairy",
   "metadata": {},
   "outputs": [],
   "source": [
    "df = df.append({'player_id':\"travis\",\n",
    "                'wordle_id':201, \n",
    "                'won_on_try_num' : 4, \n",
    "                'total_num_tries' : 6,\n",
    "                'created_date': datetime.now()}, \n",
    "                ignore_index = True)\n",
    "df = df.append({'player_id':\"travis\",\n",
    "                'wordle_id':202, \n",
    "                'won_on_try_num' : 5, \n",
    "                'total_num_tries' : 6,\n",
    "                'created_date': datetime.now()}, \n",
    "                ignore_index = True)\n",
    "df = df.append({'player_id':\"ravis\",\n",
    "                'wordle_id':201, \n",
    "                'won_on_try_num' : 2, \n",
    "                'total_num_tries' : 6,\n",
    "                'created_date': datetime.now()}, \n",
    "                ignore_index = True)\n",
    "df = df.append({'player_id':\"ravis\",\n",
    "                'wordle_id':202, \n",
    "                'won_on_try_num' : 1, \n",
    "                'total_num_tries' : 6,\n",
    "                'created_date': datetime.now()}, \n",
    "                ignore_index = True)"
   ]
  },
  {
   "cell_type": "code",
   "execution_count": 16,
   "id": "distinguished-affairs",
   "metadata": {},
   "outputs": [],
   "source": [
    "class WordleHistoryState:\n",
    "    def __init__(self):\n",
    "        self.wordle_df = pd.DataFrame(columns=[\n",
    "            'player_id',  # str\n",
    "            'wordle_id',  # int\n",
    "            'won_on_try_num',  # optional<int>\n",
    "            'total_num_tries',  # int\n",
    "            'created_date'])  # int\n",
    "\n",
    "    def add_wordle(self, player_id: str, wordle_id: int, won_on_try_num: int, total_num_tries: int, created_date: datetime):\n",
    "        self.wordle_df = self.wordle_df.append({'player_id': player_id,\n",
    "                                                'wordle_id': wordle_id,\n",
    "                                                'won_on_try_num': won_on_try_num,\n",
    "                                                'total_num_tries': total_num_tries,\n",
    "                                                'created_date': created_date},\n",
    "                                               ignore_index=True)\n",
    "\n",
    "    def create_all_stats_df(self):  #\n",
    "        allstatsdf = pd.DataFrame()\n",
    "        groupedby_players = self.wordle_df.groupby(self.wordle_df.player_id)\n",
    "        wordle_df = self.wordle_df\n",
    "        allstatsdf[\"total_games\"] = groupedby_players.size()\n",
    "        allstatsdf[\"avg_won_on_attempt\"] = groupedby_players.won_on_try_num.mean()\n",
    "        allstatsdf['win_percent'] = (wordle_df[wordle_df['won_on_try_num'].notna()].groupby(\n",
    "            wordle_df.player_id).size() / wordle_df.groupby(wordle_df.player_id).size()) * 100\n",
    "        allstatsdf['started_date'] = groupedby_players.created_date.min()\n",
    "        return allstatsdf.sort_values([\"avg_won_on_attempt\", \"win_percent\", \"started_date\"],\n",
    "                                      ascending=(True, False, True)).round(1).reset_index()"
   ]
  },
  {
   "cell_type": "code",
   "execution_count": 20,
   "id": "understanding-gregory",
   "metadata": {},
   "outputs": [
    {
     "data": {
      "text/html": [
       "<div>\n",
       "<style scoped>\n",
       "    .dataframe tbody tr th:only-of-type {\n",
       "        vertical-align: middle;\n",
       "    }\n",
       "\n",
       "    .dataframe tbody tr th {\n",
       "        vertical-align: top;\n",
       "    }\n",
       "\n",
       "    .dataframe thead th {\n",
       "        text-align: right;\n",
       "    }\n",
       "</style>\n",
       "<table border=\"1\" class=\"dataframe\">\n",
       "  <thead>\n",
       "    <tr style=\"text-align: right;\">\n",
       "      <th></th>\n",
       "      <th>player_id</th>\n",
       "      <th>wordle_id</th>\n",
       "      <th>won_on_try_num</th>\n",
       "      <th>total_num_tries</th>\n",
       "      <th>created_date</th>\n",
       "    </tr>\n",
       "  </thead>\n",
       "  <tbody>\n",
       "    <tr>\n",
       "      <th>0</th>\n",
       "      <td>travis</td>\n",
       "      <td>200</td>\n",
       "      <td>None</td>\n",
       "      <td>6</td>\n",
       "      <td>2022-02-09 16:42:51.192256</td>\n",
       "    </tr>\n",
       "    <tr>\n",
       "      <th>1</th>\n",
       "      <td>travis</td>\n",
       "      <td>201</td>\n",
       "      <td>4</td>\n",
       "      <td>6</td>\n",
       "      <td>2022-02-11 16:42:51.367223</td>\n",
       "    </tr>\n",
       "    <tr>\n",
       "      <th>2</th>\n",
       "      <td>travis</td>\n",
       "      <td>202</td>\n",
       "      <td>5</td>\n",
       "      <td>6</td>\n",
       "      <td>2022-02-11 16:42:51.370877</td>\n",
       "    </tr>\n",
       "    <tr>\n",
       "      <th>3</th>\n",
       "      <td>ravis</td>\n",
       "      <td>201</td>\n",
       "      <td>2</td>\n",
       "      <td>6</td>\n",
       "      <td>2022-02-11 16:42:51.374230</td>\n",
       "    </tr>\n",
       "    <tr>\n",
       "      <th>4</th>\n",
       "      <td>ravis</td>\n",
       "      <td>202</td>\n",
       "      <td>1</td>\n",
       "      <td>6</td>\n",
       "      <td>2022-02-11 16:42:51.377359</td>\n",
       "    </tr>\n",
       "  </tbody>\n",
       "</table>\n",
       "</div>"
      ],
      "text/plain": [
       "  player_id wordle_id won_on_try_num total_num_tries  \\\n",
       "0    travis       200           None               6   \n",
       "1    travis       201              4               6   \n",
       "2    travis       202              5               6   \n",
       "3     ravis       201              2               6   \n",
       "4     ravis       202              1               6   \n",
       "\n",
       "                created_date  \n",
       "0 2022-02-09 16:42:51.192256  \n",
       "1 2022-02-11 16:42:51.367223  \n",
       "2 2022-02-11 16:42:51.370877  \n",
       "3 2022-02-11 16:42:51.374230  \n",
       "4 2022-02-11 16:42:51.377359  "
      ]
     },
     "execution_count": 20,
     "metadata": {},
     "output_type": "execute_result"
    }
   ],
   "source": [
    "state = WordleHistoryState()\n",
    "state.wordle_df = df \n",
    "state.wordle_df"
   ]
  },
  {
   "cell_type": "code",
   "execution_count": null,
   "id": "c94d76f4-4b4b-4403-b2b5-30663fc49f98",
   "metadata": {},
   "outputs": [],
   "source": [
    "# today's plays\n",
    "# ranked user based on avg won on\n",
    "df"
   ]
  }
 ],
 "metadata": {
  "kernelspec": {
   "display_name": "Python 3 (ipykernel)",
   "language": "python",
   "name": "python3"
  },
  "language_info": {
   "codemirror_mode": {
    "name": "ipython",
    "version": 3
   },
   "file_extension": ".py",
   "mimetype": "text/x-python",
   "name": "python",
   "nbconvert_exporter": "python",
   "pygments_lexer": "ipython3",
   "version": "3.8.12"
  }
 },
 "nbformat": 4,
 "nbformat_minor": 5
}
