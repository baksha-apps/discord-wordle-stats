{
 "cells": [
  {
   "cell_type": "code",
   "execution_count": 2,
   "id": "divided-twenty",
   "metadata": {},
   "outputs": [],
   "source": [
    "import pandas as pd\n",
    "from datetime import datetime, timedelta, date\n",
    "from IPython import display"
   ]
  },
  {
   "cell_type": "markdown",
   "id": "essential-disease",
   "metadata": {},
   "source": [
    "# playid, wordleid, userid,won_on_try,total_tries,date_entered\n",
    "\n",
    "# (wordleid+playerid), int, str, nullable int, int, date\n",
    "\n",
    "###\n",
    "allstatsdf \n",
    "rank, playerid, total_games, avg_won_on_attempt win_percent, avg_attempt_num_won, started_playing_date "
   ]
  },
  {
   "cell_type": "code",
   "execution_count": 3,
   "id": "united-dream",
   "metadata": {},
   "outputs": [],
   "source": [
    "df = pd.DataFrame(columns = ['player_id', 'wordle_id', 'won_on_try_num', 'total_num_tries', 'created_date'])"
   ]
  },
  {
   "cell_type": "code",
   "execution_count": 4,
   "id": "homeless-fairy",
   "metadata": {},
   "outputs": [],
   "source": [
    "df = df.append({'player_id':\"travis\",\n",
    "                'wordle_id':201, \n",
    "                'won_on_try_num' : 5, \n",
    "                'total_num_tries' : 6,\n",
    "                'created_date': datetime.now()}, \n",
    "                ignore_index = True)\n",
    "\n",
    "df = df.append({'player_id':\"travis\",\n",
    "                'wordle_id':201, \n",
    "                'won_on_try_num' : 4, \n",
    "                'total_num_tries' : 6,\n",
    "                'created_date': datetime.now()}, \n",
    "                ignore_index = True)\n",
    "\n",
    "df = df.append({'player_id':\"travis\",\n",
    "                'wordle_id':201, \n",
    "                'won_on_try_num' : 4, \n",
    "                'total_num_tries' : 6,\n",
    "                'created_date': datetime.now()}, \n",
    "                ignore_index = True)\n",
    "df = df.append({'player_id':\"travis\",\n",
    "                'wordle_id':201, \n",
    "                'won_on_try_num' : 4, \n",
    "                'total_num_tries' : 6,\n",
    "                'created_date': datetime.now()}, \n",
    "                ignore_index = True)\n",
    "\n",
    "df = df.append({'player_id':\"travis\",\n",
    "                'wordle_id':201, \n",
    "                'won_on_try_num' : None, \n",
    "                'total_num_tries' : 6,\n",
    "                'created_date': datetime.now()}, \n",
    "                ignore_index = True)\n",
    "df = df.append({'player_id':\"travis\",\n",
    "                'wordle_id':202, \n",
    "                'won_on_try_num' : 5, \n",
    "                'total_num_tries' : 6,\n",
    "                'created_date': datetime.now()}, \n",
    "                ignore_index = True)\n",
    "df = df.append({'player_id':\"1ravis\",\n",
    "                'wordle_id':201, \n",
    "                'won_on_try_num' : 2, \n",
    "                'total_num_tries' : 6,\n",
    "                'created_date': datetime.now()}, \n",
    "                ignore_index = True)\n",
    "df = df.append({'player_id':\"2ravis\",\n",
    "                'wordle_id':201, \n",
    "                'won_on_try_num' : None, \n",
    "                'total_num_tries' : 6,\n",
    "                'created_date': datetime.now() }, \n",
    "                ignore_index = True)"
   ]
  },
  {
   "cell_type": "code",
   "execution_count": null,
   "id": "distinguished-affairs",
   "metadata": {
    "tags": []
   },
   "outputs": [],
   "source": [
    "class WordleHistoryState:\n",
    "    def __init__(self):\n",
    "        self.wordle_df = pd.DataFrame(columns=[\n",
    "            'player_id',  # str\n",
    "            'wordle_id',  # int\n",
    "            'won_on_try_num',  # optional<int>\n",
    "            'total_num_tries',  # int\n",
    "            'created_date'])  # int\n",
    "\n",
    "    def add_wordle(self, player_id: str, wordle_id: int, won_on_try_num: int, total_num_tries: int, created_date: datetime):\n",
    "        self.wordle_df = self.wordle_df.append({'player_id': player_id,\n",
    "                                                'wordle_id': wordle_id,\n",
    "                                                'won_on_try_num': won_on_try_num,\n",
    "                                                'total_num_tries': total_num_tries,\n",
    "                                                'created_date': created_date},\n",
    "                                               ignore_index=True)\n",
    "\n",
    "    def create_all_stats_df(self):  #\n",
    "        allstatsdf = pd.DataFrame()\n",
    "        groupedby_players = self.wordle_df.groupby(self.wordle_df.player_id)\n",
    "        wordle_df = self.wordle_df\n",
    "        allstatsdf[\"total_games\"] = groupedby_players.size()\n",
    "        allstatsdf[\"avg_won_on_attempt\"] = groupedby_players.won_on_try_num.mean()\n",
    "        allstatsdf['win_percent'] = (wordle_df[wordle_df['won_on_try_num'].notna()].groupby(\n",
    "            wordle_df.player_id).size() / wordle_df.groupby(wordle_df.player_id).size()) * 100\n",
    "        allstatsdf['started_date'] = groupedby_players.created_date.min()\n",
    "        return allstatsdf.sort_values([\"avg_won_on_attempt\", \"win_percent\", \"started_date\"],\n",
    "                                      ascending=(True, False, True)).round(1).reset_index()"
   ]
  },
  {
   "cell_type": "code",
   "execution_count": 4,
   "id": "understanding-gregory",
   "metadata": {
    "tags": []
   },
   "outputs": [
    {
     "data": {
      "text/html": [
       "<div>\n",
       "<style scoped>\n",
       "    .dataframe tbody tr th:only-of-type {\n",
       "        vertical-align: middle;\n",
       "    }\n",
       "\n",
       "    .dataframe tbody tr th {\n",
       "        vertical-align: top;\n",
       "    }\n",
       "\n",
       "    .dataframe thead th {\n",
       "        text-align: right;\n",
       "    }\n",
       "</style>\n",
       "<table border=\"1\" class=\"dataframe\">\n",
       "  <thead>\n",
       "    <tr style=\"text-align: right;\">\n",
       "      <th></th>\n",
       "      <th>player_id</th>\n",
       "      <th>wordle_id</th>\n",
       "      <th>won_on_try_num</th>\n",
       "      <th>total_num_tries</th>\n",
       "      <th>created_date</th>\n",
       "    </tr>\n",
       "  </thead>\n",
       "  <tbody>\n",
       "    <tr>\n",
       "      <th>0</th>\n",
       "      <td>travis</td>\n",
       "      <td>201</td>\n",
       "      <td>5</td>\n",
       "      <td>6</td>\n",
       "      <td>2022-02-11 23:52:20.752092</td>\n",
       "    </tr>\n",
       "    <tr>\n",
       "      <th>1</th>\n",
       "      <td>travis</td>\n",
       "      <td>201</td>\n",
       "      <td>4</td>\n",
       "      <td>6</td>\n",
       "      <td>2022-02-11 23:52:20.755336</td>\n",
       "    </tr>\n",
       "    <tr>\n",
       "      <th>2</th>\n",
       "      <td>travis</td>\n",
       "      <td>201</td>\n",
       "      <td>4</td>\n",
       "      <td>6</td>\n",
       "      <td>2022-02-11 23:52:20.758297</td>\n",
       "    </tr>\n",
       "    <tr>\n",
       "      <th>3</th>\n",
       "      <td>travis</td>\n",
       "      <td>201</td>\n",
       "      <td>4</td>\n",
       "      <td>6</td>\n",
       "      <td>2022-02-11 23:52:20.760892</td>\n",
       "    </tr>\n",
       "    <tr>\n",
       "      <th>4</th>\n",
       "      <td>travis</td>\n",
       "      <td>201</td>\n",
       "      <td>None</td>\n",
       "      <td>6</td>\n",
       "      <td>2022-02-11 23:52:20.763384</td>\n",
       "    </tr>\n",
       "    <tr>\n",
       "      <th>5</th>\n",
       "      <td>travis</td>\n",
       "      <td>202</td>\n",
       "      <td>5</td>\n",
       "      <td>6</td>\n",
       "      <td>2022-02-11 23:52:20.766401</td>\n",
       "    </tr>\n",
       "    <tr>\n",
       "      <th>6</th>\n",
       "      <td>1ravis</td>\n",
       "      <td>201</td>\n",
       "      <td>2</td>\n",
       "      <td>6</td>\n",
       "      <td>2022-02-11 23:52:20.769093</td>\n",
       "    </tr>\n",
       "    <tr>\n",
       "      <th>7</th>\n",
       "      <td>2ravis</td>\n",
       "      <td>201</td>\n",
       "      <td>None</td>\n",
       "      <td>6</td>\n",
       "      <td>2022-02-11 23:52:20.771816</td>\n",
       "    </tr>\n",
       "  </tbody>\n",
       "</table>\n",
       "</div>"
      ],
      "text/plain": [
       "  player_id wordle_id won_on_try_num total_num_tries  \\\n",
       "0    travis       201              5               6   \n",
       "1    travis       201              4               6   \n",
       "2    travis       201              4               6   \n",
       "3    travis       201              4               6   \n",
       "4    travis       201           None               6   \n",
       "5    travis       202              5               6   \n",
       "6    1ravis       201              2               6   \n",
       "7    2ravis       201           None               6   \n",
       "\n",
       "                created_date  \n",
       "0 2022-02-11 23:52:20.752092  \n",
       "1 2022-02-11 23:52:20.755336  \n",
       "2 2022-02-11 23:52:20.758297  \n",
       "3 2022-02-11 23:52:20.760892  \n",
       "4 2022-02-11 23:52:20.763384  \n",
       "5 2022-02-11 23:52:20.766401  \n",
       "6 2022-02-11 23:52:20.769093  \n",
       "7 2022-02-11 23:52:20.771816  "
      ]
     },
     "execution_count": 4,
     "metadata": {},
     "output_type": "execute_result"
    }
   ],
   "source": [
    "reset = df\n",
    "reset"
   ]
  },
  {
   "cell_type": "code",
   "execution_count": null,
   "id": "31e0c5ff-0a17-4e0a-b1b1-2ae604a822b6",
   "metadata": {},
   "outputs": [],
   "source": [
    "# for $today\n",
    "df = reset\n",
    "top = None\n",
    "# df = self.wordle_df\n",
    "df = df.loc[(date.today() == df['created_date'].dt.date)]\n",
    "wid = df.wordle_id.value_counts().max()\n",
    "# df = df.loc[(wid == df['wordle_id'])]  # only show the most used wordle id to filter out bad\n",
    "percent_of_winners = df.won_on_try_num.notna().mean()\n",
    "df.won_on_try_num = pd.to_numeric(df.won_on_try_num)\n",
    "avg_turn_won = df.won_on_try_num.mean()\n",
    "\n",
    "if top:\n",
    "    df = df.nlargest(top, 'won_on_try_num')\n",
    "\n",
    "df = df.sort_values([\"won_on_try_num\", \"created_date\"], ascending=(True, True))\n",
    "df = df.reset_index(drop=True)\n",
    "df"
   ]
  },
  {
   "cell_type": "code",
   "execution_count": null,
   "id": "4a36adb3-e8f8-4da0-9b14-c1c0270b5dfb",
   "metadata": {},
   "outputs": [],
   "source": [
    "winners_avg"
   ]
  },
  {
   "cell_type": "code",
   "execution_count": 7,
   "id": "56b1d9a8-a301-4736-bb47-369cab7f60fe",
   "metadata": {},
   "outputs": [
    {
     "data": {
      "text/html": [
       "<div>\n",
       "<style scoped>\n",
       "    .dataframe tbody tr th:only-of-type {\n",
       "        vertical-align: middle;\n",
       "    }\n",
       "\n",
       "    .dataframe tbody tr th {\n",
       "        vertical-align: top;\n",
       "    }\n",
       "\n",
       "    .dataframe thead th {\n",
       "        text-align: right;\n",
       "    }\n",
       "</style>\n",
       "<table border=\"1\" class=\"dataframe\">\n",
       "  <thead>\n",
       "    <tr style=\"text-align: right;\">\n",
       "      <th></th>\n",
       "      <th>player_id</th>\n",
       "      <th>total_games</th>\n",
       "      <th>avg_won_on_attempt</th>\n",
       "      <th>win_percent</th>\n",
       "      <th>new_win_percent</th>\n",
       "      <th>started_date</th>\n",
       "    </tr>\n",
       "  </thead>\n",
       "  <tbody>\n",
       "    <tr>\n",
       "      <th>0</th>\n",
       "      <td>1ravis</td>\n",
       "      <td>1</td>\n",
       "      <td>2.0</td>\n",
       "      <td>100.0</td>\n",
       "      <td>100.0</td>\n",
       "      <td>2022-02-12 15:08:39.012714</td>\n",
       "    </tr>\n",
       "    <tr>\n",
       "      <th>1</th>\n",
       "      <td>travis</td>\n",
       "      <td>6</td>\n",
       "      <td>4.4</td>\n",
       "      <td>83.3</td>\n",
       "      <td>83.3</td>\n",
       "      <td>2022-02-12 15:08:38.993501</td>\n",
       "    </tr>\n",
       "    <tr>\n",
       "      <th>2</th>\n",
       "      <td>2ravis</td>\n",
       "      <td>1</td>\n",
       "      <td>NaN</td>\n",
       "      <td>NaN</td>\n",
       "      <td>NaN</td>\n",
       "      <td>2022-02-12 15:08:39.015524</td>\n",
       "    </tr>\n",
       "  </tbody>\n",
       "</table>\n",
       "</div>"
      ],
      "text/plain": [
       "  player_id  total_games  avg_won_on_attempt  win_percent  new_win_percent  \\\n",
       "0    1ravis            1                 2.0        100.0            100.0   \n",
       "1    travis            6                 4.4         83.3             83.3   \n",
       "2    2ravis            1                 NaN          NaN              NaN   \n",
       "\n",
       "                started_date  \n",
       "0 2022-02-12 15:08:39.012714  \n",
       "1 2022-02-12 15:08:38.993501  \n",
       "2 2022-02-12 15:08:39.015524  "
      ]
     },
     "execution_count": 7,
     "metadata": {},
     "output_type": "execute_result"
    }
   ],
   "source": [
    "allstatsdf = pd.DataFrame()\n",
    "groupedby_players = df.groupby(df.player_id)\n",
    "wordle_df = df\n",
    "allstatsdf[\"total_games\"] = groupedby_players.size()\n",
    "allstatsdf[\"avg_won_on_attempt\"] = groupedby_players.won_on_try_num.mean()\n",
    "allstatsdf['win_percent'] = (wordle_df[wordle_df['won_on_try_num'].notna()].groupby(\n",
    "    wordle_df.player_id).size() / wordle_df.groupby(wordle_df.player_id).size()) * 100\n",
    "allstatsdf['new_win_percent'] = (wordle_df[wordle_df['won_on_try_num'].notna()].groupby(wordle_df.player_id).size() / groupedby_players.size()) * 100\n",
    "allstatsdf['started_date'] = groupedby_players.created_date.min()\n",
    "allstatsdf.sort_values([\"avg_won_on_attempt\", \"win_percent\", \"started_date\"],\n",
    "                              ascending=(True, False, True)).round(1).reset_index()"
   ]
  },
  {
   "cell_type": "code",
   "execution_count": 9,
   "id": "eb735ba2-0cec-4265-9efa-7764bb8e3cd8",
   "metadata": {},
   "outputs": [
    {
     "data": {
      "text/plain": [
       "player_id\n",
       "1ravis    100.000000\n",
       "2ravis           NaN\n",
       "travis     83.333333\n",
       "dtype: float64"
      ]
     },
     "execution_count": 9,
     "metadata": {},
     "output_type": "execute_result"
    }
   ],
   "source": [
    "(wordle_df[wordle_df['won_on_try_num'].notna()].groupby(wordle_df.player_id).size() / groupedby_players.size()) * 100"
   ]
  },
  {
   "cell_type": "code",
   "execution_count": 20,
   "id": "cfe68219-054e-45d0-9030-dd7c74fb50e2",
   "metadata": {},
   "outputs": [
    {
     "data": {
      "text/plain": [
       "player_id\n",
       "1ravis    2.0\n",
       "2ravis    NaN\n",
       "travis    4.4\n",
       "Name: won_on_try_num, dtype: float64"
      ]
     },
     "execution_count": 20,
     "metadata": {},
     "output_type": "execute_result"
    }
   ],
   "source": [
    "groupedby_players.won_on_try_num.mean()"
   ]
  },
  {
   "cell_type": "code",
   "execution_count": 22,
   "id": "ab8abd3c-ffd0-460c-a592-5f248b80a74e",
   "metadata": {},
   "outputs": [
    {
     "data": {
      "text/plain": [
       "0    02/12/2022, 15:08:38\n",
       "1    02/12/2022, 15:08:38\n",
       "2    02/12/2022, 15:08:39\n",
       "3    02/12/2022, 15:08:39\n",
       "4    02/12/2022, 15:08:39\n",
       "5    02/12/2022, 15:08:39\n",
       "6    02/12/2022, 15:08:39\n",
       "7    02/12/2022, 15:08:39\n",
       "Name: created_date, dtype: object"
      ]
     },
     "execution_count": 22,
     "metadata": {},
     "output_type": "execute_result"
    }
   ],
   "source": [
    "df.created_date.dt.strftime(\"%m/%d/%Y, %H:%M:%S\")"
   ]
  },
  {
   "cell_type": "code",
   "execution_count": 23,
   "id": "6d5ef814-b889-4983-a63c-b05f0c765889",
   "metadata": {},
   "outputs": [],
   "source": [
    "words = [\"cigar\", \"rebut\", \"sissy\", \"humph\", \"awake\", \"blush\", \"focal\", \"evade\", \"naval\", \"serve\", \"heath\", \"dwarf\", \"model\", \"karma\", \"stink\", \"grade\", \"quiet\", \"bench\", \"abate\", \"feign\", \"major\", \"death\", \"fresh\", \"crust\", \"stool\", \"colon\", \"abase\", \"marry\", \"react\", \"batty\", \"pride\", \"floss\", \"helix\", \"croak\", \"staff\", \"paper\", \"unfed\", \"whelp\", \"trawl\", \"outdo\", \"adobe\", \"crazy\", \"sower\", \"repay\", \"digit\", \"crate\", \"cluck\", \"spike\", \"mimic\", \"pound\", \"maxim\", \"linen\", \"unmet\", \"flesh\", \"booby\", \"forth\", \"first\", \"stand\", \"belly\", \"ivory\", \"seedy\", \"print\", \"yearn\", \"drain\", \"bribe\", \"stout\", \"panel\", \"crass\", \"flume\", \"offal\", \"agree\", \"error\", \"swirl\", \"argue\", \"bleed\", \"delta\", \"flick\", \"totem\", \"wooer\", \"front\", \"shrub\", \"parry\", \"biome\", \"lapel\", \"start\", \"greet\", \"goner\", \"golem\", \"lusty\", \"loopy\", \"round\", \"audit\", \"lying\", \"gamma\", \"labor\", \"islet\", \"civic\", \"forge\", \"corny\", \"moult\", \"basic\", \"salad\", \"agate\", \"spicy\", \"spray\", \"essay\", \"fjord\", \"spend\", \"kebab\", \"guild\", \"aback\", \"motor\", \"alone\", \"hatch\", \"hyper\", \"thumb\", \"dowry\", \"ought\", \"belch\", \"dutch\", \"pilot\", \"tweed\", \"comet\", \"jaunt\", \"enema\", \"steed\", \"abyss\", \"growl\", \"fling\", \"dozen\", \"boozy\", \"erode\", \"world\", \"gouge\", \"click\", \"briar\", \"great\", \"altar\", \"pulpy\", \"blurt\", \"coast\", \"duchy\", \"groin\", \"fixer\", \"group\", \"rogue\", \"badly\", \"smart\", \"pithy\", \"gaudy\", \"chill\", \"heron\", \"vodka\", \"finer\", \"surer\", \"radio\", \"rouge\", \"perch\", \"retch\", \"wrote\", \"clock\", \"tilde\", \"store\", \"prove\", \"bring\", \"solve\", \"cheat\", \"grime\", \"exult\", \"usher\", \"epoch\", \"triad\", \"break\", \"rhino\", \"viral\", \"conic\", \"masse\", \"sonic\", \"vital\", \"trace\", \"using\", \"peach\", \"champ\", \"baton\", \"brake\", \"pluck\", \"craze\", \"gripe\", \"weary\", \"picky\", \"acute\", \"ferry\", \"aside\", \"tapir\", \"troll\", \"unify\", \"rebus\", \"boost\", \"truss\", \"siege\", \"tiger\", \"banal\", \"slump\", \"crank\", \"gorge\", \"query\", \"drink\", \"favor\", \"abbey\", \"tangy\", \"panic\", \"solar\", \"shire\", \"proxy\", \"point\", \"robot\", \"prick\", \"wince\", \"crimp\", \"knoll\", \"sugar\", \"whack\", \"mount\", \"perky\", \"could\", \"wrung\", \"light\", \"those\", \"moist\", \"shard\", \"pleat\", \"aloft\", \"skill\", \"elder\", \"frame\", \"humor\", \"pause\", \"ulcer\", \"ultra\", \"robin\", \"cynic\", \"agora\", \"aroma\", \"caulk\", \"shake\", \"pupal\", \"dodge\", \"swill\", \"tacit\", \"other\", \"thorn\", \"trove\", \"bloke\", \"vivid\", \"spill\", \"chant\", \"choke\", \"rupee\", \"nasty\", \"mourn\", \"ahead\", \"brine\", \"cloth\", \"hoard\", \"sweet\", \"month\", \"lapse\", \"watch\", \"today\", \"focus\", \"smelt\", \"tease\", \"cater\", \"movie\", \"lynch\", \"saute\", \"allow\", \"renew\", \"their\", \"slosh\", \"purge\", \"chest\", \"depot\", \"epoxy\", \"nymph\", \"found\", \"shall\", \"harry\", \"stove\", \"lowly\", \"snout\", \"trope\", \"fewer\", \"shawl\", \"natal\", \"fibre\", \"comma\", \"foray\", \"scare\", \"stair\", \"black\", \"squad\", \"royal\", \"chunk\", \"mince\", \"slave\", \"shame\", \"cheek\", \"ample\", \"flair\", \"foyer\", \"cargo\", \"oxide\", \"plant\", \"olive\", \"inert\", \"askew\", \"heist\", \"shown\", \"zesty\", \"hasty\", \"trash\", \"fella\", \"larva\", \"forgo\", \"story\", \"hairy\", \"train\", \"homer\", \"badge\", \"midst\", \"canny\", \"fetus\", \"butch\", \"farce\", \"slung\", \"tipsy\", \"metal\", \"yield\", \"delve\", \"being\", \"scour\", \"glass\", \"gamer\", \"scrap\", \"money\", \"hinge\", \"album\", \"vouch\", \"asset\", \"tiara\", \"crept\", \"bayou\", \"atoll\", \"manor\", \"creak\", \"showy\", \"phase\", \"froth\", \"depth\", \"gloom\", \"flood\", \"trait\", \"girth\", \"piety\", \"payer\", \"goose\", \"float\", \"donor\", \"atone\", \"primo\", \"apron\", \"blown\", \"cacao\", \"loser\", \"input\", \"gloat\", \"awful\", \"brink\", \"smite\", \"beady\", \"rusty\", \"retro\", \"droll\", \"gawky\", \"hutch\", \"pinto\", \"gaily\", \"egret\", \"lilac\", \"sever\", \"field\", \"fluff\", \"hydro\", \"flack\", \"agape\", \"wench\", \"voice\", \"stead\", \"stalk\", \"berth\", \"madam\", \"night\", \"bland\", \"liver\", \"wedge\", \"augur\", \"roomy\", \"wacky\", \"flock\", \"angry\", \"bobby\", \"trite\", \"aphid\", \"tryst\", \"midge\", \"power\", \"elope\", \"cinch\", \"motto\", \"stomp\", \"upset\", \"bluff\", \"cramp\", \"quart\", \"coyly\", \"youth\", \"rhyme\", \"buggy\", \"alien\", \"smear\", \"unfit\", \"patty\", \"cling\", \"glean\", \"label\", \"hunky\", \"khaki\", \"poker\", \"gruel\", \"twice\", \"twang\", \"shrug\", \"treat\", \"unlit\", \"waste\", \"merit\", \"woven\", \"octal\", \"needy\", \"clown\", \"widow\", \"irony\", \"ruder\", \"gauze\", \"chief\", \"onset\", \"prize\", \"fungi\", \"charm\", \"gully\", \"inter\", \"whoop\", \"taunt\", \"leery\", \"class\", \"theme\", \"lofty\", \"tibia\", \"booze\", \"alpha\", \"thyme\", \"eclat\", \"doubt\", \"parer\", \"chute\", \"stick\", \"trice\", \"alike\", \"sooth\", \"recap\", \"saint\", \"liege\", \"glory\", \"grate\", \"admit\", \"brisk\", \"soggy\", \"usurp\", \"scald\", \"scorn\", \"leave\", \"twine\", \"sting\", \"bough\", \"marsh\", \"sloth\", \"dandy\", \"vigor\", \"howdy\", \"enjoy\", \"valid\", \"ionic\", \"equal\", \"unset\", \"floor\", \"catch\", \"spade\", \"stein\", \"exist\", \"quirk\", \"denim\", \"grove\", \"spiel\", \"mummy\", \"fault\", \"foggy\", \"flout\", \"carry\", \"sneak\", \"libel\", \"waltz\", \"aptly\", \"piney\", \"inept\", \"aloud\", \"photo\", \"dream\", \"stale\", \"vomit\", \"ombre\", \"fanny\", \"unite\", \"snarl\", \"baker\", \"there\", \"glyph\", \"pooch\", \"hippy\", \"spell\", \"folly\", \"louse\", \"gulch\", \"vault\", \"godly\", \"threw\", \"fleet\", \"grave\", \"inane\", \"shock\", \"crave\", \"spite\", \"valve\", \"skimp\", \"claim\", \"rainy\", \"musty\", \"pique\", \"daddy\", \"quasi\", \"arise\", \"aging\", \"valet\", \"opium\", \"avert\", \"stuck\", \"recut\", \"mulch\", \"genre\", \"plume\", \"rifle\", \"count\", \"incur\", \"total\", \"wrest\", \"mocha\", \"deter\", \"study\", \"lover\", \"safer\", \"rivet\", \"funny\", \"smoke\", \"mound\", \"undue\", \"sedan\", \"pagan\", \"swine\", \"guile\", \"gusty\", \"equip\", \"tough\", \"canoe\", \"chaos\", \"covet\", \"human\", \"udder\", \"lunch\", \"blast\", \"stray\", \"manga\", \"melee\", \"lefty\", \"quick\", \"paste\", \"given\", \"octet\", \"risen\", \"groan\", \"leaky\", \"grind\", \"carve\", \"loose\", \"sadly\", \"spilt\", \"apple\", \"slack\", \"honey\", \"final\", \"sheen\", \"eerie\", \"minty\", \"slick\", \"derby\", \"wharf\", \"spelt\", \"coach\", \"erupt\", \"singe\", \"price\", \"spawn\", \"fairy\", \"jiffy\", \"filmy\", \"stack\", \"chose\", \"sleep\", \"ardor\", \"nanny\", \"niece\", \"woozy\", \"handy\", \"grace\", \"ditto\", \"stank\", \"cream\", \"usual\", \"diode\", \"valor\", \"angle\", \"ninja\", \"muddy\", \"chase\", \"reply\", \"prone\", \"spoil\", \"heart\", \"shade\", \"diner\", \"arson\", \"onion\", \"sleet\", \"dowel\", \"couch\", \"palsy\", \"bowel\", \"smile\", \"evoke\", \"creek\", \"lance\", \"eagle\", \"idiot\", \"siren\", \"built\", \"embed\", \"award\", \"dross\", \"annul\", \"goody\", \"frown\", \"patio\", \"laden\", \"humid\", \"elite\", \"lymph\", \"edify\", \"might\", \"reset\", \"visit\", \"gusto\", \"purse\", \"vapor\", \"crock\", \"write\", \"sunny\", \"loath\", \"chaff\", \"slide\", \"queer\", \"venom\", \"stamp\", \"sorry\", \"still\", \"acorn\", \"aping\", \"pushy\", \"tamer\", \"hater\", \"mania\", \"awoke\", \"brawn\", \"swift\", \"exile\", \"birch\", \"lucky\", \"freer\", \"risky\", \"ghost\", \"plier\", \"lunar\", \"winch\", \"snare\", \"nurse\", \"house\", \"borax\", \"nicer\", \"lurch\", \"exalt\", \"about\", \"savvy\", \"toxin\", \"tunic\", \"pried\", \"inlay\", \"chump\", \"lanky\", \"cress\", \"eater\", \"elude\", \"cycle\", \"kitty\", \"boule\", \"moron\", \"tenet\", \"place\", \"lobby\", \"plush\", \"vigil\", \"index\", \"blink\", \"clung\", \"qualm\", \"croup\", \"clink\", \"juicy\", \"stage\", \"decay\", \"nerve\", \"flier\", \"shaft\", \"crook\", \"clean\", \"china\", \"ridge\", \"vowel\", \"gnome\", \"snuck\", \"icing\", \"spiny\", \"rigor\", \"snail\", \"flown\", \"rabid\", \"prose\", \"thank\", \"poppy\", \"budge\", \"fiber\", \"moldy\", \"dowdy\", \"kneel\", \"track\", \"caddy\", \"quell\", \"dumpy\", \"paler\", \"swore\", \"rebar\", \"scuba\", \"splat\", \"flyer\", \"horny\", \"mason\", \"doing\", \"ozone\", \"amply\", \"molar\", \"ovary\", \"beset\", \"queue\", \"cliff\", \"magic\", \"truce\", \"sport\", \"fritz\", \"edict\", \"twirl\", \"verse\", \"llama\", \"eaten\", \"range\", \"whisk\", \"hovel\", \"rehab\", \"macaw\", \"sigma\", \"spout\", \"verve\", \"sushi\", \"dying\", \"fetid\", \"brain\", \"buddy\", \"thump\", \"scion\", \"candy\", \"chord\", \"basin\", \"march\", \"crowd\", \"arbor\", \"gayly\", \"musky\", \"stain\", \"dally\", \"bless\", \"bravo\", \"stung\", \"title\", \"ruler\", \"kiosk\", \"blond\", \"ennui\", \"layer\", \"fluid\", \"tatty\", \"score\", \"cutie\", \"zebra\", \"barge\", \"matey\", \"bluer\", \"aider\", \"shook\", \"river\", \"privy\", \"betel\", \"frisk\", \"bongo\", \"begun\", \"azure\", \"weave\", \"genie\", \"sound\", \"glove\", \"braid\", \"scope\", \"wryly\", \"rover\", \"assay\", \"ocean\", \"bloom\", \"irate\", \"later\", \"woken\", \"silky\", \"wreck\", \"dwelt\", \"slate\", \"smack\", \"solid\", \"amaze\", \"hazel\", \"wrist\", \"jolly\", \"globe\", \"flint\", \"rouse\", \"civil\", \"vista\", \"relax\", \"cover\", \"alive\", \"beech\", \"jetty\", \"bliss\", \"vocal\", \"often\", \"dolly\", \"eight\", \"joker\", \"since\", \"event\", \"ensue\", \"shunt\", \"diver\", \"poser\", \"worst\", \"sweep\", \"alley\", \"creed\", \"anime\", \"leafy\", \"bosom\", \"dunce\", \"stare\", \"pudgy\", \"waive\", \"choir\", \"stood\", \"spoke\", \"outgo\", \"delay\", \"bilge\", \"ideal\", \"clasp\", \"seize\", \"hotly\", \"laugh\", \"sieve\", \"block\", \"meant\", \"grape\", \"noose\", \"hardy\", \"shied\", \"drawl\", \"daisy\", \"putty\", \"strut\", \"burnt\", \"tulip\", \"crick\", \"idyll\", \"vixen\", \"furor\", \"geeky\", \"cough\", \"naive\", \"shoal\", \"stork\", \"bathe\", \"aunty\", \"check\", \"prime\", \"brass\", \"outer\", \"furry\", \"razor\", \"elect\", \"evict\", \"imply\", \"demur\", \"quota\", \"haven\", \"cavil\", \"swear\", \"crump\", \"dough\", \"gavel\", \"wagon\", \"salon\", \"nudge\", \"harem\", \"pitch\", \"sworn\", \"pupil\", \"excel\", \"stony\", \"cabin\", \"unzip\", \"queen\", \"trout\", \"polyp\", \"earth\", \"storm\", \"until\", \"taper\", \"enter\", \"child\", \"adopt\", \"minor\", \"fatty\", \"husky\", \"brave\", \"filet\", \"slime\", \"glint\", \"tread\", \"steal\", \"regal\", \"guest\", \"every\", \"murky\", \"share\", \"spore\", \"hoist\", \"buxom\", \"inner\", \"otter\", \"dimly\", \"level\", \"sumac\", \"donut\", \"stilt\", \"arena\", \"sheet\", \"scrub\", \"fancy\", \"slimy\", \"pearl\", \"silly\", \"porch\", \"dingo\", \"sepia\", \"amble\", \"shady\", \"bread\", \"friar\", \"reign\", \"dairy\", \"quill\", \"cross\", \"brood\", \"tuber\", \"shear\", \"posit\", \"blank\", \"villa\", \"shank\", \"piggy\", \"freak\", \"which\", \"among\", \"fecal\", \"shell\", \"would\", \"algae\", \"large\", \"rabbi\", \"agony\", \"amuse\", \"bushy\", \"copse\", \"swoon\", \"knife\", \"pouch\", \"ascot\", \"plane\", \"crown\", \"urban\", \"snide\", \"relay\", \"abide\", \"viola\", \"rajah\", \"straw\", \"dilly\", \"crash\", \"amass\", \"third\", \"trick\", \"tutor\", \"woody\", \"blurb\", \"grief\", \"disco\", \"where\", \"sassy\", \"beach\", \"sauna\", \"comic\", \"clued\", \"creep\", \"caste\", \"graze\", \"snuff\", \"frock\", \"gonad\", \"drunk\", \"prong\", \"lurid\", \"steel\", \"halve\", \"buyer\", \"vinyl\", \"utile\", \"smell\", \"adage\", \"worry\", \"tasty\", \"local\", \"trade\", \"finch\", \"ashen\", \"modal\", \"gaunt\", \"clove\", \"enact\", \"adorn\", \"roast\", \"speck\", \"sheik\", \"missy\", \"grunt\", \"snoop\", \"party\", \"touch\", \"mafia\", \"emcee\", \"array\", \"south\", \"vapid\", \"jelly\", \"skulk\", \"angst\", \"tubal\", \"lower\", \"crest\", \"sweat\", \"cyber\", \"adore\", \"tardy\", \"swami\", \"notch\", \"groom\", \"roach\", \"hitch\", \"young\", \"align\", \"ready\", \"frond\", \"strap\", \"puree\", \"realm\", \"venue\", \"swarm\", \"offer\", \"seven\", \"dryer\", \"diary\", \"dryly\", \"drank\", \"acrid\", \"heady\", \"theta\", \"junto\", \"pixie\", \"quoth\", \"bonus\", \"shalt\", \"penne\", \"amend\", \"datum\", \"build\", \"piano\", \"shelf\", \"lodge\", \"suing\", \"rearm\", \"coral\", \"ramen\", \"worth\", \"psalm\", \"infer\", \"overt\", \"mayor\", \"ovoid\", \"glide\", \"usage\", \"poise\", \"randy\", \"chuck\", \"prank\", \"fishy\", \"tooth\", \"ether\", \"drove\", \"idler\", \"swath\", \"stint\", \"while\", \"begat\", \"apply\", \"slang\", \"tarot\", \"radar\", \"credo\", \"aware\", \"canon\", \"shift\", \"timer\", \"bylaw\", \"serum\", \"three\", \"steak\", \"iliac\", \"shirk\", \"blunt\", \"puppy\", \"penal\", \"joist\", \"bunny\", \"shape\", \"beget\", \"wheel\", \"adept\", \"stunt\", \"stole\", \"topaz\", \"chore\", \"fluke\", \"afoot\", \"bloat\", \"bully\", \"dense\", \"caper\", \"sneer\", \"boxer\", \"jumbo\", \"lunge\", \"space\", \"avail\", \"short\", \"slurp\", \"loyal\", \"flirt\", \"pizza\", \"conch\", \"tempo\", \"droop\", \"plate\", \"bible\", \"plunk\", \"afoul\", \"savoy\", \"steep\", \"agile\", \"stake\", \"dwell\", \"knave\", \"beard\", \"arose\", \"motif\", \"smash\", \"broil\", \"glare\", \"shove\", \"baggy\", \"mammy\", \"swamp\", \"along\", \"rugby\", \"wager\", \"quack\", \"squat\", \"snaky\", \"debit\", \"mange\", \"skate\", \"ninth\", \"joust\", \"tramp\", \"spurn\", \"medal\", \"micro\", \"rebel\", \"flank\", \"learn\", \"nadir\", \"maple\", \"comfy\", \"remit\", \"gruff\", \"ester\", \"least\", \"mogul\", \"fetch\", \"cause\", \"oaken\", \"aglow\", \"meaty\", \"gaffe\", \"shyly\", \"racer\", \"prowl\", \"thief\", \"stern\", \"poesy\", \"rocky\", \"tweet\", \"waist\", \"spire\", \"grope\", \"havoc\", \"patsy\", \"truly\", \"forty\", \"deity\", \"uncle\", \"swish\", \"giver\", \"preen\", \"bevel\", \"lemur\", \"draft\", \"slope\", \"annoy\", \"lingo\", \"bleak\", \"ditty\", \"curly\", \"cedar\", \"dirge\", \"grown\", \"horde\", \"drool\", \"shuck\", \"crypt\", \"cumin\", \"stock\", \"gravy\", \"locus\", \"wider\", \"breed\", \"quite\", \"chafe\", \"cache\", \"blimp\", \"deign\", \"fiend\", \"logic\", \"cheap\", \"elide\", \"rigid\", \"false\", \"renal\", \"pence\", \"rowdy\", \"shoot\", \"blaze\", \"envoy\", \"posse\", \"brief\", \"never\", \"abort\", \"mouse\", \"mucky\", \"sulky\", \"fiery\", \"media\", \"trunk\", \"yeast\", \"clear\", \"skunk\", \"scalp\", \"bitty\", \"cider\", \"koala\", \"duvet\", \"segue\", \"creme\", \"super\", \"grill\", \"after\", \"owner\", \"ember\", \"reach\", \"nobly\", \"empty\", \"speed\", \"gipsy\", \"recur\", \"smock\", \"dread\", \"merge\", \"burst\", \"kappa\", \"amity\", \"shaky\", \"hover\", \"carol\", \"snort\", \"synod\", \"faint\", \"haunt\", \"flour\", \"chair\", \"detox\", \"shrew\", \"tense\", \"plied\", \"quark\", \"burly\", \"novel\", \"waxen\", \"stoic\", \"jerky\", \"blitz\", \"beefy\", \"lyric\", \"hussy\", \"towel\", \"quilt\", \"below\", \"bingo\", \"wispy\", \"brash\", \"scone\", \"toast\", \"easel\", \"saucy\", \"value\", \"spice\", \"honor\", \"route\", \"sharp\", \"bawdy\", \"radii\", \"skull\", \"phony\", \"issue\", \"lager\", \"swell\", \"urine\", \"gassy\", \"trial\", \"flora\", \"upper\", \"latch\", \"wight\", \"brick\", \"retry\", \"holly\", \"decal\", \"grass\", \"shack\", \"dogma\", \"mover\", \"defer\", \"sober\", \"optic\", \"crier\", \"vying\", \"nomad\", \"flute\", \"hippo\", \"shark\", \"drier\", \"obese\", \"bugle\", \"tawny\", \"chalk\", \"feast\", \"ruddy\", \"pedal\", \"scarf\", \"cruel\", \"bleat\", \"tidal\", \"slush\", \"semen\", \"windy\", \"dusty\", \"sally\", \"igloo\", \"nerdy\", \"jewel\", \"shone\", \"whale\", \"hymen\", \"abuse\", \"fugue\", \"elbow\", \"crumb\", \"pansy\", \"welsh\", \"syrup\", \"terse\", \"suave\", \"gamut\", \"swung\", \"drake\", \"freed\", \"afire\", \"shirt\", \"grout\", \"oddly\", \"tithe\", \"plaid\", \"dummy\", \"broom\", \"blind\", \"torch\", \"enemy\", \"again\", \"tying\", \"pesky\", \"alter\", \"gazer\", \"noble\", \"ethos\", \"bride\", \"extol\", \"decor\", \"hobby\", \"beast\", \"idiom\", \"utter\", \"these\", \"sixth\", \"alarm\", \"erase\", \"elegy\", \"spunk\", \"piper\", \"scaly\", \"scold\", \"hefty\", \"chick\", \"sooty\", \"canal\", \"whiny\", \"slash\", \"quake\", \"joint\", \"swept\", \"prude\", \"heavy\", \"wield\", \"femme\", \"lasso\", \"maize\", \"shale\", \"screw\", \"spree\", \"smoky\", \"whiff\", \"scent\", \"glade\", \"spent\", \"prism\", \"stoke\", \"riper\", \"orbit\", \"cocoa\", \"guilt\", \"humus\", \"shush\", \"table\", \"smirk\", \"wrong\", \"noisy\", \"alert\", \"shiny\", \"elate\", \"resin\", \"whole\", \"hunch\", \"pixel\", \"polar\", \"hotel\", \"sword\", \"cleat\", \"mango\", \"rumba\", \"puffy\", \"filly\", \"billy\", \"leash\", \"clout\", \"dance\", \"ovate\", \"facet\", \"chili\", \"paint\", \"liner\", \"curio\", \"salty\", \"audio\", \"snake\", \"fable\", \"cloak\", \"navel\", \"spurt\", \"pesto\", \"balmy\", \"flash\", \"unwed\", \"early\", \"churn\", \"weedy\", \"stump\", \"lease\", \"witty\", \"wimpy\", \"spoof\", \"saner\", \"blend\", \"salsa\", \"thick\", \"warty\", \"manic\", \"blare\", \"squib\", \"spoon\", \"probe\", \"crepe\", \"knack\", \"force\", \"debut\", \"order\", \"haste\", \"teeth\", \"agent\", \"widen\", \"icily\", \"slice\", \"ingot\", \"clash\", \"juror\", \"blood\", \"abode\", \"throw\", \"unity\", \"pivot\", \"slept\", \"troop\", \"spare\", \"sewer\", \"parse\", \"morph\", \"cacti\", \"tacky\", \"spool\", \"demon\", \"moody\", \"annex\", \"begin\", \"fuzzy\", \"patch\", \"water\", \"lumpy\", \"admin\", \"omega\", \"limit\", \"tabby\", \"macho\", \"aisle\", \"skiff\", \"basis\", \"plank\", \"verge\", \"botch\", \"crawl\", \"lousy\", \"slain\", \"cubic\", \"raise\", \"wrack\", \"guide\", \"foist\", \"cameo\", \"under\", \"actor\", \"revue\", \"fraud\", \"harpy\", \"scoop\", \"climb\", \"refer\", \"olden\", \"clerk\", \"debar\", \"tally\", \"ethic\", \"cairn\", \"tulle\", \"ghoul\", \"hilly\", \"crude\", \"apart\", \"scale\", \"older\", \"plain\", \"sperm\", \"briny\", \"abbot\", \"rerun\", \"quest\", \"crisp\", \"bound\", \"befit\", \"drawn\", \"suite\", \"itchy\", \"cheer\", \"bagel\", \"guess\", \"broad\", \"axiom\", \"chard\", \"caput\", \"leant\", \"harsh\", \"curse\", \"proud\", \"swing\", \"opine\", \"taste\", \"lupus\", \"gumbo\", \"miner\", \"green\", \"chasm\", \"lipid\", \"topic\", \"armor\", \"brush\", \"crane\", \"mural\", \"abled\", \"habit\", \"bossy\", \"maker\", \"dusky\", \"dizzy\", \"lithe\", \"brook\", \"jazzy\", \"fifty\", \"sense\", \"giant\", \"surly\", \"legal\", \"fatal\", \"flunk\", \"began\", \"prune\", \"small\", \"slant\", \"scoff\", \"torus\", \"ninny\", \"covey\", \"viper\", \"taken\", \"moral\", \"vogue\", \"owing\", \"token\", \"entry\", \"booth\", \"voter\", \"chide\", \"elfin\", \"ebony\", \"neigh\", \"minim\", \"melon\", \"kneed\", \"decoy\", \"voila\", \"ankle\", \"arrow\", \"mushy\", \"tribe\", \"cease\", \"eager\", \"birth\", \"graph\", \"odder\", \"terra\", \"weird\", \"tried\", \"clack\", \"color\", \"rough\", \"weigh\", \"uncut\", \"ladle\", \"strip\", \"craft\", \"minus\", \"dicey\", \"titan\", \"lucid\", \"vicar\", \"dress\", \"ditch\", \"gypsy\", \"pasta\", \"taffy\", \"flame\", \"swoop\", \"aloof\", \"sight\", \"broke\", \"teary\", \"chart\", \"sixty\", \"wordy\", \"sheer\", \"leper\", \"nosey\", \"bulge\", \"savor\", \"clamp\", \"funky\", \"foamy\", \"toxic\", \"brand\", \"plumb\", \"dingy\", \"butte\", \"drill\", \"tripe\", \"bicep\", \"tenor\", \"krill\", \"worse\", \"drama\", \"hyena\", \"think\", \"ratio\", \"cobra\", \"basil\", \"scrum\", \"bused\", \"phone\", \"court\", \"camel\", \"proof\", \"heard\", \"angel\", \"petal\", \"pouty\", \"throb\", \"maybe\", \"fetal\", \"sprig\", \"spine\", \"shout\", \"cadet\", \"macro\", \"dodgy\", \"satyr\", \"rarer\", \"binge\", \"trend\", \"nutty\", \"leapt\", \"amiss\", \"split\", \"myrrh\", \"width\", \"sonar\", \"tower\", \"baron\", \"fever\", \"waver\", \"spark\", \"belie\", \"sloop\", \"expel\", \"smote\", \"baler\", \"above\", \"north\", \"wafer\", \"scant\", \"frill\", \"awash\", \"snack\", \"scowl\", \"frail\", \"drift\", \"limbo\", \"fence\", \"motel\", \"ounce\", \"wreak\", \"revel\", \"talon\", \"prior\", \"knelt\", \"cello\", \"flake\", \"debug\", \"anode\", \"crime\", \"salve\", \"scout\", \"imbue\", \"pinky\", \"stave\", \"vague\", \"chock\", \"fight\", \"video\", \"stone\", \"teach\", \"cleft\", \"frost\", \"prawn\", \"booty\", \"twist\", \"apnea\", \"stiff\", \"plaza\", \"ledge\", \"tweak\", \"board\", \"grant\", \"medic\", \"bacon\", \"cable\", \"brawl\", \"slunk\", \"raspy\", \"forum\", \"drone\", \"women\", \"mucus\", \"boast\", \"toddy\", \"coven\", \"tumor\", \"truer\", \"wrath\", \"stall\", \"steam\", \"axial\", \"purer\", \"daily\", \"trail\", \"niche\", \"mealy\", \"juice\", \"nylon\", \"plump\", \"merry\", \"flail\", \"papal\", \"wheat\", \"berry\", \"cower\", \"erect\", \"brute\", \"leggy\", \"snipe\", \"sinew\", \"skier\", \"penny\", \"jumpy\", \"rally\", \"umbra\", \"scary\", \"modem\", \"gross\", \"avian\", \"greed\", \"satin\", \"tonic\", \"parka\", \"sniff\", \"livid\", \"stark\", \"trump\", \"giddy\", \"reuse\", \"taboo\", \"avoid\", \"quote\", \"devil\", \"liken\", \"gloss\", \"gayer\", \"beret\", \"noise\", \"gland\", \"dealt\", \"sling\", \"rumor\", \"opera\", \"thigh\", \"tonga\", \"flare\", \"wound\", \"white\", \"bulky\", \"etude\", \"horse\", \"circa\", \"paddy\", \"inbox\", \"fizzy\", \"grain\", \"exert\", \"surge\", \"gleam\", \"belle\", \"salvo\", \"crush\", \"fruit\", \"sappy\", \"taker\", \"tract\", \"ovine\", \"spiky\", \"frank\", \"reedy\", \"filth\", \"spasm\", \"heave\", \"mambo\", \"right\", \"clank\", \"trust\", \"lumen\", \"borne\", \"spook\", \"sauce\", \"amber\", \"lathe\", \"carat\", \"corer\", \"dirty\", \"slyly\", \"affix\", \"alloy\", \"taint\", \"sheep\", \"kinky\", \"wooly\", \"mauve\", \"flung\", \"yacht\", \"fried\", \"quail\", \"brunt\", \"grimy\", \"curvy\", \"cagey\", \"rinse\", \"deuce\", \"state\", \"grasp\", \"milky\", \"bison\", \"graft\", \"sandy\", \"baste\", \"flask\", \"hedge\", \"girly\", \"swash\", \"boney\", \"coupe\", \"endow\", \"abhor\", \"welch\", \"blade\", \"tight\", \"geese\", \"miser\", \"mirth\", \"cloud\", \"cabal\", \"leech\", \"close\", \"tenth\", \"pecan\", \"droit\", \"grail\", \"clone\", \"guise\", \"ralph\", \"tango\", \"biddy\", \"smith\", \"mower\", \"payee\", \"serif\", \"drape\", \"fifth\", \"spank\", \"glaze\", \"allot\", \"truck\", \"kayak\", \"virus\", \"testy\", \"tepee\", \"fully\", \"zonal\", \"metro\", \"curry\", \"grand\", \"banjo\", \"axion\", \"bezel\", \"occur\", \"chain\", \"nasal\", \"gooey\", \"filer\", \"brace\", \"allay\", \"pubic\", \"raven\", \"plead\", \"gnash\", \"flaky\", \"munch\", \"dully\", \"eking\", \"thing\", \"slink\", \"hurry\", \"theft\", \"shorn\", \"pygmy\", \"ranch\", \"wring\", \"lemon\", \"shore\", \"mamma\", \"froze\", \"newer\", \"style\", \"moose\", \"antic\", \"drown\", \"vegan\", \"chess\", \"guppy\", \"union\", \"lever\", \"lorry\", \"image\", \"cabby\", \"druid\", \"exact\", \"truth\", \"dopey\", \"spear\", \"cried\", \"chime\", \"crony\", \"stunk\", \"timid\", \"batch\", \"gauge\", \"rotor\", \"crack\", \"curve\", \"latte\", \"witch\", \"bunch\", \"repel\", \"anvil\", \"soapy\", \"meter\", \"broth\", \"madly\", \"dried\", \"scene\", \"known\", \"magma\", \"roost\", \"woman\", \"thong\", \"punch\", \"pasty\", \"downy\", \"knead\", \"whirl\", \"rapid\", \"clang\", \"anger\", \"drive\", \"goofy\", \"email\", \"music\", \"stuff\", \"bleep\", \"rider\", \"mecca\", \"folio\", \"setup\", \"verso\", \"quash\", \"fauna\", \"gummy\", \"happy\", \"newly\", \"fussy\", \"relic\", \"guava\", \"ratty\", \"fudge\", \"femur\", \"chirp\", \"forte\", \"alibi\", \"whine\", \"petty\", \"golly\", \"plait\", \"fleck\", \"felon\", \"gourd\", \"brown\", \"thrum\", \"ficus\", \"stash\", \"decry\", \"wiser\", \"junta\", \"visor\", \"daunt\", \"scree\", \"impel\", \"await\", \"press\", \"whose\", \"turbo\", \"stoop\", \"speak\", \"mangy\", \"eying\", \"inlet\", \"crone\", \"pulse\", \"mossy\", \"staid\", \"hence\", \"pinch\", \"teddy\", \"sully\", \"snore\", \"ripen\", \"snowy\", \"attic\", \"going\", \"leach\", \"mouth\", \"hound\", \"clump\", \"tonal\", \"bigot\", \"peril\", \"piece\", \"blame\", \"haute\", \"spied\", \"undid\", \"intro\", \"basal\", \"shine\", \"gecko\", \"rodeo\", \"guard\", \"steer\", \"loamy\", \"scamp\", \"scram\", \"manly\", \"hello\", \"vaunt\", \"organ\", \"feral\", \"knock\", \"extra\", \"condo\", \"adapt\", \"willy\", \"polka\", \"rayon\", \"skirt\", \"faith\", \"torso\", \"match\", \"mercy\", \"tepid\", \"sleek\", \"riser\", \"twixt\", \"peace\", \"flush\", \"catty\", \"login\", \"eject\", \"roger\", \"rival\", \"untie\", \"refit\", \"aorta\", \"adult\", \"judge\", \"rower\", \"artsy\", \"rural\", \"shave\"]"
   ]
  },
  {
   "cell_type": "code",
   "execution_count": 25,
   "id": "b1ed148b-9cfd-41d4-9a16-224042fe8db7",
   "metadata": {},
   "outputs": [],
   "source": [
    "from datetime import datetime, date, timedelta"
   ]
  },
  {
   "cell_type": "code",
   "execution_count": 44,
   "id": "efcb5f43-9048-4d3c-8df4-9d092746dd38",
   "metadata": {},
   "outputs": [
    {
     "data": {
      "text/plain": [
       "2315"
      ]
     },
     "execution_count": 44,
     "metadata": {},
     "output_type": "execute_result"
    }
   ],
   "source": [
    "len(words)"
   ]
  },
  {
   "cell_type": "code",
   "execution_count": 55,
   "id": "2d3a1621-fce2-4ae9-a2b0-ab0be5b95357",
   "metadata": {},
   "outputs": [
    {
     "data": {
      "text/plain": [
       "datetime.timedelta(days=269)"
      ]
     },
     "execution_count": 55,
     "metadata": {},
     "output_type": "execute_result"
    }
   ],
   "source": [
    "delta = datetime.now().replace(hour=0, minute=0, second=0, microsecond=0) - datetime(2021, 5, 19, 0, 0, 0, 0)\n",
    "delta"
   ]
  },
  {
   "cell_type": "code",
   "execution_count": 58,
   "id": "c6d5651c-255f-4a72-87b0-c063ae289cbd",
   "metadata": {},
   "outputs": [
    {
     "data": {
      "text/plain": [
       "23241600000.0"
      ]
     },
     "execution_count": 58,
     "metadata": {},
     "output_type": "execute_result"
    }
   ],
   "source": [
    "delta_mili = delta.total_seconds() * 1000\n",
    "delta_mili"
   ]
  },
  {
   "cell_type": "code",
   "execution_count": 59,
   "id": "a1d69df2-904b-41d6-a1d8-ec1726d53622",
   "metadata": {},
   "outputs": [
    {
     "data": {
      "text/plain": [
       "269.0"
      ]
     },
     "execution_count": 59,
     "metadata": {},
     "output_type": "execute_result"
    }
   ],
   "source": [
    "delta_mili/864e5"
   ]
  },
  {
   "cell_type": "code",
   "execution_count": 62,
   "id": "defdae32-2c70-4bc3-8310-0698908f075b",
   "metadata": {},
   "outputs": [
    {
     "data": {
      "text/plain": [
       "'smelt'"
      ]
     },
     "execution_count": 62,
     "metadata": {},
     "output_type": "execute_result"
    }
   ],
   "source": [
    "words[270]"
   ]
  },
  {
   "cell_type": "code",
   "execution_count": 53,
   "id": "1bb796b9-8f15-4860-bff6-eebe0811b8a9",
   "metadata": {},
   "outputs": [
    {
     "data": {
      "text/plain": [
       "datetime.timedelta(days=269)"
      ]
     },
     "execution_count": 53,
     "metadata": {},
     "output_type": "execute_result"
    }
   ],
   "source": [
    "delta"
   ]
  },
  {
   "cell_type": "code",
   "execution_count": 63,
   "id": "fcc15bb5-0f63-418e-ba9d-34352056f51d",
   "metadata": {},
   "outputs": [
    {
     "data": {
      "text/plain": [
       "238"
      ]
     },
     "execution_count": 63,
     "metadata": {},
     "output_type": "execute_result"
    }
   ],
   "source": [
    "words.index(\"ultra\")"
   ]
  },
  {
   "cell_type": "code",
   "execution_count": 64,
   "id": "3c10a819-3a73-4004-9147-84b325c38be9",
   "metadata": {},
   "outputs": [
    {
     "data": {
      "text/plain": [
       "'ulcer'"
      ]
     },
     "execution_count": 64,
     "metadata": {},
     "output_type": "execute_result"
    }
   ],
   "source": [
    "words[237]"
   ]
  },
  {
   "cell_type": "code",
   "execution_count": 69,
   "id": "6cb9caca-fdce-4606-89ea-7609a17e1320",
   "metadata": {},
   "outputs": [],
   "source": [
    "import numpy as np"
   ]
  },
  {
   "cell_type": "code",
   "execution_count": 72,
   "id": "704e71d5-1938-43ef-8371-ec31104c82ad",
   "metadata": {},
   "outputs": [],
   "source": [
    "np.save(\"words\",words)"
   ]
  },
  {
   "cell_type": "code",
   "execution_count": 74,
   "id": "f58e38bb-4454-4fbd-a67f-28c9d182ce39",
   "metadata": {},
   "outputs": [
    {
     "data": {
      "text/plain": [
       "array(['cigar', 'rebut', 'sissy', ..., 'artsy', 'rural', 'shave'],\n",
       "      dtype='<U5')"
      ]
     },
     "execution_count": 74,
     "metadata": {},
     "output_type": "execute_result"
    }
   ],
   "source": [
    "np.load('words.npy')"
   ]
  },
  {
   "cell_type": "code",
   "execution_count": null,
   "id": "0d2dc501-2608-4933-a1d6-178df4133d9e",
   "metadata": {},
   "outputs": [],
   "source": []
  }
 ],
 "metadata": {
  "kernelspec": {
   "display_name": "Python 3 (ipykernel)",
   "language": "python",
   "name": "python3"
  },
  "language_info": {
   "codemirror_mode": {
    "name": "ipython",
    "version": 3
   },
   "file_extension": ".py",
   "mimetype": "text/x-python",
   "name": "python",
   "nbconvert_exporter": "python",
   "pygments_lexer": "ipython3",
   "version": "3.8.12"
  }
 },
 "nbformat": 4,
 "nbformat_minor": 5
}
