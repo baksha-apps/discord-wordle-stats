{
 "cells": [
  {
   "cell_type": "code",
   "execution_count": 2,
   "id": "divided-twenty",
   "metadata": {},
   "outputs": [],
   "source": [
    "import pandas as pd\n",
    "from datetime import datetime, timedelta, date\n",
    "from IPython import display"
   ]
  },
  {
   "cell_type": "markdown",
   "id": "essential-disease",
   "metadata": {},
   "source": [
    "# playid, wordleid, userid,won_on_try,total_tries,date_entered\n",
    "\n",
    "# (wordleid+playerid), int, str, nullable int, int, date\n",
    "\n",
    "###\n",
    "allstatsdf \n",
    "rank, playerid, total_games, avg_won_on_attempt win_percent, avg_attempt_num_won, started_playing_date "
   ]
  },
  {
   "cell_type": "code",
   "execution_count": 3,
   "id": "united-dream",
   "metadata": {},
   "outputs": [],
   "source": [
    "df = pd.DataFrame(columns = ['player_id', 'wordle_id', 'won_on_try_num', 'total_num_tries', 'created_date'])"
   ]
  },
  {
   "cell_type": "code",
   "execution_count": 4,
   "id": "homeless-fairy",
   "metadata": {},
   "outputs": [],
   "source": [
    "df = df.append({'player_id':\"travis\",\n",
    "                'wordle_id':201, \n",
    "                'won_on_try_num' : 5, \n",
    "                'total_num_tries' : 6,\n",
    "                'created_date': datetime.now()}, \n",
    "                ignore_index = True)\n",
    "\n",
    "df = df.append({'player_id':\"travis\",\n",
    "                'wordle_id':201, \n",
    "                'won_on_try_num' : 4, \n",
    "                'total_num_tries' : 6,\n",
    "                'created_date': datetime.now()}, \n",
    "                ignore_index = True)\n",
    "\n",
    "df = df.append({'player_id':\"travis\",\n",
    "                'wordle_id':201, \n",
    "                'won_on_try_num' : 4, \n",
    "                'total_num_tries' : 6,\n",
    "                'created_date': datetime.now()}, \n",
    "                ignore_index = True)\n",
    "df = df.append({'player_id':\"travis\",\n",
    "                'wordle_id':201, \n",
    "                'won_on_try_num' : 4, \n",
    "                'total_num_tries' : 6,\n",
    "                'created_date': datetime.now()}, \n",
    "                ignore_index = True)\n",
    "\n",
    "df = df.append({'player_id':\"travis\",\n",
    "                'wordle_id':201, \n",
    "                'won_on_try_num' : None, \n",
    "                'total_num_tries' : 6,\n",
    "                'created_date': datetime.now()}, \n",
    "                ignore_index = True)\n",
    "df = df.append({'player_id':\"travis\",\n",
    "                'wordle_id':202, \n",
    "                'won_on_try_num' : 5, \n",
    "                'total_num_tries' : 6,\n",
    "                'created_date': datetime.now()}, \n",
    "                ignore_index = True)\n",
    "df = df.append({'player_id':\"1ravis\",\n",
    "                'wordle_id':201, \n",
    "                'won_on_try_num' : 2, \n",
    "                'total_num_tries' : 6,\n",
    "                'created_date': datetime.now()}, \n",
    "                ignore_index = True)\n",
    "df = df.append({'player_id':\"2ravis\",\n",
    "                'wordle_id':201, \n",
    "                'won_on_try_num' : None, \n",
    "                'total_num_tries' : 6,\n",
    "                'created_date': datetime.now() }, \n",
    "                ignore_index = True)"
   ]
  },
  {
   "cell_type": "code",
   "execution_count": null,
   "id": "distinguished-affairs",
   "metadata": {
    "tags": []
   },
   "outputs": [],
   "source": [
    "class WordleHistoryState:\n",
    "    def __init__(self):\n",
    "        self.wordle_df = pd.DataFrame(columns=[\n",
    "            'player_id',  # str\n",
    "            'wordle_id',  # int\n",
    "            'won_on_try_num',  # optional<int>\n",
    "            'total_num_tries',  # int\n",
    "            'created_date'])  # int\n",
    "\n",
    "    def add_wordle(self, player_id: str, wordle_id: int, won_on_try_num: int, total_num_tries: int, created_date: datetime):\n",
    "        self.wordle_df = self.wordle_df.append({'player_id': player_id,\n",
    "                                                'wordle_id': wordle_id,\n",
    "                                                'won_on_try_num': won_on_try_num,\n",
    "                                                'total_num_tries': total_num_tries,\n",
    "                                                'created_date': created_date},\n",
    "                                               ignore_index=True)\n",
    "\n",
    "    def create_all_stats_df(self):  #\n",
    "        allstatsdf = pd.DataFrame()\n",
    "        groupedby_players = self.wordle_df.groupby(self.wordle_df.player_id)\n",
    "        wordle_df = self.wordle_df\n",
    "        allstatsdf[\"total_games\"] = groupedby_players.size()\n",
    "        allstatsdf[\"avg_won_on_attempt\"] = groupedby_players.won_on_try_num.mean()\n",
    "        allstatsdf['win_percent'] = (wordle_df[wordle_df['won_on_try_num'].notna()].groupby(\n",
    "            wordle_df.player_id).size() / wordle_df.groupby(wordle_df.player_id).size()) * 100\n",
    "        allstatsdf['started_date'] = groupedby_players.created_date.min()\n",
    "        return allstatsdf.sort_values([\"avg_won_on_attempt\", \"win_percent\", \"started_date\"],\n",
    "                                      ascending=(True, False, True)).round(1).reset_index()"
   ]
  },
  {
   "cell_type": "code",
   "execution_count": 4,
   "id": "understanding-gregory",
   "metadata": {
    "tags": []
   },
   "outputs": [
    {
     "data": {
      "text/html": [
       "<div>\n",
       "<style scoped>\n",
       "    .dataframe tbody tr th:only-of-type {\n",
       "        vertical-align: middle;\n",
       "    }\n",
       "\n",
       "    .dataframe tbody tr th {\n",
       "        vertical-align: top;\n",
       "    }\n",
       "\n",
       "    .dataframe thead th {\n",
       "        text-align: right;\n",
       "    }\n",
       "</style>\n",
       "<table border=\"1\" class=\"dataframe\">\n",
       "  <thead>\n",
       "    <tr style=\"text-align: right;\">\n",
       "      <th></th>\n",
       "      <th>player_id</th>\n",
       "      <th>wordle_id</th>\n",
       "      <th>won_on_try_num</th>\n",
       "      <th>total_num_tries</th>\n",
       "      <th>created_date</th>\n",
       "    </tr>\n",
       "  </thead>\n",
       "  <tbody>\n",
       "    <tr>\n",
       "      <th>0</th>\n",
       "      <td>travis</td>\n",
       "      <td>201</td>\n",
       "      <td>5</td>\n",
       "      <td>6</td>\n",
       "      <td>2022-02-11 23:52:20.752092</td>\n",
       "    </tr>\n",
       "    <tr>\n",
       "      <th>1</th>\n",
       "      <td>travis</td>\n",
       "      <td>201</td>\n",
       "      <td>4</td>\n",
       "      <td>6</td>\n",
       "      <td>2022-02-11 23:52:20.755336</td>\n",
       "    </tr>\n",
       "    <tr>\n",
       "      <th>2</th>\n",
       "      <td>travis</td>\n",
       "      <td>201</td>\n",
       "      <td>4</td>\n",
       "      <td>6</td>\n",
       "      <td>2022-02-11 23:52:20.758297</td>\n",
       "    </tr>\n",
       "    <tr>\n",
       "      <th>3</th>\n",
       "      <td>travis</td>\n",
       "      <td>201</td>\n",
       "      <td>4</td>\n",
       "      <td>6</td>\n",
       "      <td>2022-02-11 23:52:20.760892</td>\n",
       "    </tr>\n",
       "    <tr>\n",
       "      <th>4</th>\n",
       "      <td>travis</td>\n",
       "      <td>201</td>\n",
       "      <td>None</td>\n",
       "      <td>6</td>\n",
       "      <td>2022-02-11 23:52:20.763384</td>\n",
       "    </tr>\n",
       "    <tr>\n",
       "      <th>5</th>\n",
       "      <td>travis</td>\n",
       "      <td>202</td>\n",
       "      <td>5</td>\n",
       "      <td>6</td>\n",
       "      <td>2022-02-11 23:52:20.766401</td>\n",
       "    </tr>\n",
       "    <tr>\n",
       "      <th>6</th>\n",
       "      <td>1ravis</td>\n",
       "      <td>201</td>\n",
       "      <td>2</td>\n",
       "      <td>6</td>\n",
       "      <td>2022-02-11 23:52:20.769093</td>\n",
       "    </tr>\n",
       "    <tr>\n",
       "      <th>7</th>\n",
       "      <td>2ravis</td>\n",
       "      <td>201</td>\n",
       "      <td>None</td>\n",
       "      <td>6</td>\n",
       "      <td>2022-02-11 23:52:20.771816</td>\n",
       "    </tr>\n",
       "  </tbody>\n",
       "</table>\n",
       "</div>"
      ],
      "text/plain": [
       "  player_id wordle_id won_on_try_num total_num_tries  \\\n",
       "0    travis       201              5               6   \n",
       "1    travis       201              4               6   \n",
       "2    travis       201              4               6   \n",
       "3    travis       201              4               6   \n",
       "4    travis       201           None               6   \n",
       "5    travis       202              5               6   \n",
       "6    1ravis       201              2               6   \n",
       "7    2ravis       201           None               6   \n",
       "\n",
       "                created_date  \n",
       "0 2022-02-11 23:52:20.752092  \n",
       "1 2022-02-11 23:52:20.755336  \n",
       "2 2022-02-11 23:52:20.758297  \n",
       "3 2022-02-11 23:52:20.760892  \n",
       "4 2022-02-11 23:52:20.763384  \n",
       "5 2022-02-11 23:52:20.766401  \n",
       "6 2022-02-11 23:52:20.769093  \n",
       "7 2022-02-11 23:52:20.771816  "
      ]
     },
     "execution_count": 4,
     "metadata": {},
     "output_type": "execute_result"
    }
   ],
   "source": [
    "reset = df\n",
    "reset"
   ]
  },
  {
   "cell_type": "code",
   "execution_count": null,
   "id": "31e0c5ff-0a17-4e0a-b1b1-2ae604a822b6",
   "metadata": {},
   "outputs": [],
   "source": [
    "# for $today\n",
    "df = reset\n",
    "top = None\n",
    "# df = self.wordle_df\n",
    "df = df.loc[(date.today() == df['created_date'].dt.date)]\n",
    "wid = df.wordle_id.value_counts().max()\n",
    "# df = df.loc[(wid == df['wordle_id'])]  # only show the most used wordle id to filter out bad\n",
    "percent_of_winners = df.won_on_try_num.notna().mean()\n",
    "df.won_on_try_num = pd.to_numeric(df.won_on_try_num)\n",
    "avg_turn_won = df.won_on_try_num.mean()\n",
    "\n",
    "if top:\n",
    "    df = df.nlargest(top, 'won_on_try_num')\n",
    "\n",
    "df = df.sort_values([\"won_on_try_num\", \"created_date\"], ascending=(True, True))\n",
    "df = df.reset_index(drop=True)\n",
    "df"
   ]
  },
  {
   "cell_type": "code",
   "execution_count": null,
   "id": "4a36adb3-e8f8-4da0-9b14-c1c0270b5dfb",
   "metadata": {},
   "outputs": [],
   "source": [
    "winners_avg"
   ]
  },
  {
   "cell_type": "code",
   "execution_count": 7,
   "id": "56b1d9a8-a301-4736-bb47-369cab7f60fe",
   "metadata": {},
   "outputs": [
    {
     "data": {
      "text/html": [
       "<div>\n",
       "<style scoped>\n",
       "    .dataframe tbody tr th:only-of-type {\n",
       "        vertical-align: middle;\n",
       "    }\n",
       "\n",
       "    .dataframe tbody tr th {\n",
       "        vertical-align: top;\n",
       "    }\n",
       "\n",
       "    .dataframe thead th {\n",
       "        text-align: right;\n",
       "    }\n",
       "</style>\n",
       "<table border=\"1\" class=\"dataframe\">\n",
       "  <thead>\n",
       "    <tr style=\"text-align: right;\">\n",
       "      <th></th>\n",
       "      <th>player_id</th>\n",
       "      <th>total_games</th>\n",
       "      <th>avg_won_on_attempt</th>\n",
       "      <th>win_percent</th>\n",
       "      <th>new_win_percent</th>\n",
       "      <th>started_date</th>\n",
       "    </tr>\n",
       "  </thead>\n",
       "  <tbody>\n",
       "    <tr>\n",
       "      <th>0</th>\n",
       "      <td>1ravis</td>\n",
       "      <td>1</td>\n",
       "      <td>2.0</td>\n",
       "      <td>100.0</td>\n",
       "      <td>100.0</td>\n",
       "      <td>2022-02-12 15:08:39.012714</td>\n",
       "    </tr>\n",
       "    <tr>\n",
       "      <th>1</th>\n",
       "      <td>travis</td>\n",
       "      <td>6</td>\n",
       "      <td>4.4</td>\n",
       "      <td>83.3</td>\n",
       "      <td>83.3</td>\n",
       "      <td>2022-02-12 15:08:38.993501</td>\n",
       "    </tr>\n",
       "    <tr>\n",
       "      <th>2</th>\n",
       "      <td>2ravis</td>\n",
       "      <td>1</td>\n",
       "      <td>NaN</td>\n",
       "      <td>NaN</td>\n",
       "      <td>NaN</td>\n",
       "      <td>2022-02-12 15:08:39.015524</td>\n",
       "    </tr>\n",
       "  </tbody>\n",
       "</table>\n",
       "</div>"
      ],
      "text/plain": [
       "  player_id  total_games  avg_won_on_attempt  win_percent  new_win_percent  \\\n",
       "0    1ravis            1                 2.0        100.0            100.0   \n",
       "1    travis            6                 4.4         83.3             83.3   \n",
       "2    2ravis            1                 NaN          NaN              NaN   \n",
       "\n",
       "                started_date  \n",
       "0 2022-02-12 15:08:39.012714  \n",
       "1 2022-02-12 15:08:38.993501  \n",
       "2 2022-02-12 15:08:39.015524  "
      ]
     },
     "execution_count": 7,
     "metadata": {},
     "output_type": "execute_result"
    }
   ],
   "source": [
    "allstatsdf = pd.DataFrame()\n",
    "groupedby_players = df.groupby(df.player_id)\n",
    "wordle_df = df\n",
    "allstatsdf[\"total_games\"] = groupedby_players.size()\n",
    "allstatsdf[\"avg_won_on_attempt\"] = groupedby_players.won_on_try_num.mean()\n",
    "allstatsdf['win_percent'] = (wordle_df[wordle_df['won_on_try_num'].notna()].groupby(\n",
    "    wordle_df.player_id).size() / wordle_df.groupby(wordle_df.player_id).size()) * 100\n",
    "allstatsdf['new_win_percent'] = (wordle_df[wordle_df['won_on_try_num'].notna()].groupby(wordle_df.player_id).size() / groupedby_players.size()) * 100\n",
    "allstatsdf['started_date'] = groupedby_players.created_date.min()\n",
    "allstatsdf.sort_values([\"avg_won_on_attempt\", \"win_percent\", \"started_date\"],\n",
    "                              ascending=(True, False, True)).round(1).reset_index()"
   ]
  },
  {
   "cell_type": "code",
   "execution_count": 9,
   "id": "eb735ba2-0cec-4265-9efa-7764bb8e3cd8",
   "metadata": {},
   "outputs": [
    {
     "data": {
      "text/plain": [
       "player_id\n",
       "1ravis    100.000000\n",
       "2ravis           NaN\n",
       "travis     83.333333\n",
       "dtype: float64"
      ]
     },
     "execution_count": 9,
     "metadata": {},
     "output_type": "execute_result"
    }
   ],
   "source": [
    "(wordle_df[wordle_df['won_on_try_num'].notna()].groupby(wordle_df.player_id).size() / groupedby_players.size()) * 100"
   ]
  },
  {
   "cell_type": "code",
   "execution_count": 20,
   "id": "cfe68219-054e-45d0-9030-dd7c74fb50e2",
   "metadata": {},
   "outputs": [
    {
     "data": {
      "text/plain": [
       "player_id\n",
       "1ravis    2.0\n",
       "2ravis    NaN\n",
       "travis    4.4\n",
       "Name: won_on_try_num, dtype: float64"
      ]
     },
     "execution_count": 20,
     "metadata": {},
     "output_type": "execute_result"
    }
   ],
   "source": [
    "groupedby_players.won_on_try_num.mean()"
   ]
  },
  {
   "cell_type": "code",
   "execution_count": 22,
   "id": "ab8abd3c-ffd0-460c-a592-5f248b80a74e",
   "metadata": {},
   "outputs": [
    {
     "data": {
      "text/plain": [
       "0    02/12/2022, 15:08:38\n",
       "1    02/12/2022, 15:08:38\n",
       "2    02/12/2022, 15:08:39\n",
       "3    02/12/2022, 15:08:39\n",
       "4    02/12/2022, 15:08:39\n",
       "5    02/12/2022, 15:08:39\n",
       "6    02/12/2022, 15:08:39\n",
       "7    02/12/2022, 15:08:39\n",
       "Name: created_date, dtype: object"
      ]
     },
     "execution_count": 22,
     "metadata": {},
     "output_type": "execute_result"
    }
   ],
   "source": [
    "df.created_date.dt.strftime(\"%m/%d/%Y, %H:%M:%S\")"
   ]
  },
  {
   "cell_type": "code",
   "execution_count": null,
   "id": "6d5ef814-b889-4983-a63c-b05f0c765889",
   "metadata": {},
   "outputs": [],
   "source": []
  }
 ],
 "metadata": {
  "kernelspec": {
   "display_name": "Python 3 (ipykernel)",
   "language": "python",
   "name": "python3"
  },
  "language_info": {
   "codemirror_mode": {
    "name": "ipython",
    "version": 3
   },
   "file_extension": ".py",
   "mimetype": "text/x-python",
   "name": "python",
   "nbconvert_exporter": "python",
   "pygments_lexer": "ipython3",
   "version": "3.8.12"
  }
 },
 "nbformat": 4,
 "nbformat_minor": 5
}
